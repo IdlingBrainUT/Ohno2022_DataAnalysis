{
 "cells": [
  {
   "cell_type": "code",
   "execution_count": 1,
   "metadata": {},
   "outputs": [],
   "source": [
    "import numpy as np\n",
    "from matplotlib import pyplot as plt"
   ]
  },
  {
   "cell_type": "code",
   "execution_count": 55,
   "metadata": {},
   "outputs": [],
   "source": [
    "x = 0\n",
    "th = 0.01\n",
    "tau = 2\n",
    "p = 0.05\n",
    "t = 3000\n",
    "l = 50\n",
    "n_s = 100\n",
    "k = 3"
   ]
  },
  {
   "cell_type": "code",
   "execution_count": 59,
   "metadata": {},
   "outputs": [],
   "source": [
    "for ii, t in enumerate([3000, 30000]):\n",
    "    for k in range(1, 11):\n",
    "        for jj in range(10):\n",
    "            seed = jj + (k - 1) * 10 + ii * 100\n",
    "            np.random.seed(seed)\n",
    "            n = n_s * k\n",
    "            ret = np.zeros((t, n))\n",
    "            for ki in range(k):\n",
    "                xt = []\n",
    "                for _ in range(t+l-1):\n",
    "                    if np.random.random() < p:\n",
    "                        x += 1\n",
    "                    x -= x / tau\n",
    "                    if x < th:\n",
    "                        x = 0\n",
    "                    xt.append(x)\n",
    "                xt = np.array(xt)\n",
    "                for i, r in enumerate(np.random.randint(l, size=n_s)):\n",
    "                    ret[:, ki*n_s+i] = xt[r:r+t]\n",
    "            ret *= np.random.exponential(size=(t, n))\n",
    "            np.savetxt(\"gen_n\" + str(n) + \"_k\" + str(k) + \"_l\" + str(l) + \"_t\" + str(t) + \"_seed\" + str(seed) + \".csv\", ret, delimiter=\",\")"
   ]
  },
  {
   "cell_type": "code",
   "execution_count": null,
   "metadata": {},
   "outputs": [],
   "source": []
  }
 ],
 "metadata": {
  "kernelspec": {
   "display_name": "Python 3",
   "language": "python",
   "name": "python3"
  },
  "language_info": {
   "codemirror_mode": {
    "name": "ipython",
    "version": 3
   },
   "file_extension": ".py",
   "mimetype": "text/x-python",
   "name": "python",
   "nbconvert_exporter": "python",
   "pygments_lexer": "ipython3",
   "version": "3.7.3"
  }
 },
 "nbformat": 4,
 "nbformat_minor": 2
}

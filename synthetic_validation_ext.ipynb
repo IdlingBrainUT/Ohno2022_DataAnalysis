{
 "cells": [
  {
   "cell_type": "code",
   "execution_count": 1,
   "metadata": {},
   "outputs": [],
   "source": [
    "import numpy as np\n",
    "import pandas as pd\n",
    "from matplotlib import pyplot as plt"
   ]
  },
  {
   "cell_type": "code",
   "execution_count": 2,
   "metadata": {},
   "outputs": [],
   "source": [
    "u53 = pd.read_csv(\"txt/U53_30000.txt\", delimiter=\" \", header=None).values"
   ]
  },
  {
   "cell_type": "code",
   "execution_count": 3,
   "metadata": {},
   "outputs": [],
   "source": [
    "tmp = np.zeros((10, 10, 10, 4))\n",
    "for i in range(10):\n",
    "    for j in range(10):\n",
    "        tmp[i, j, :, :] = u53[i*100+j*10:i*100+j*10+10, :]"
   ]
  },
  {
   "cell_type": "code",
   "execution_count": 4,
   "metadata": {},
   "outputs": [],
   "source": [
    "num_min = np.zeros((10, 10))\n",
    "for i in range(10):\n",
    "    for j in range(10):\n",
    "        num_min[i, j] = tmp[i, j, :, 2][tmp[i, j, :, 3].argmin()]"
   ]
  },
  {
   "cell_type": "code",
   "execution_count": 5,
   "metadata": {},
   "outputs": [
    {
     "data": {
      "text/plain": [
       "array([[ 1.,  1.,  1.,  1.,  1.,  1.,  1.,  1.,  1.,  1.],\n",
       "       [ 2.,  2.,  2.,  2.,  2.,  2.,  2.,  2.,  2.,  2.],\n",
       "       [ 3.,  3.,  3.,  3.,  3.,  3.,  3.,  3.,  3.,  3.],\n",
       "       [ 4.,  4.,  4.,  4.,  4.,  4.,  4.,  4.,  4.,  4.],\n",
       "       [ 5.,  5.,  5.,  5.,  5.,  5.,  5.,  5.,  5.,  5.],\n",
       "       [ 6.,  6.,  6.,  6.,  6.,  6.,  6.,  6.,  6.,  6.],\n",
       "       [ 7.,  7.,  7.,  7.,  7.,  7.,  7.,  7.,  7.,  7.],\n",
       "       [ 8.,  8.,  8.,  8.,  8.,  8.,  8.,  8.,  8.,  8.],\n",
       "       [ 9.,  9.,  9.,  9.,  9.,  9.,  9.,  9.,  9.,  9.],\n",
       "       [10.,  9.,  9., 10., 10.,  9., 10., 10., 10., 10.]])"
      ]
     },
     "execution_count": 5,
     "metadata": {},
     "output_type": "execute_result"
    }
   ],
   "source": [
    "num_min"
   ]
  },
  {
   "cell_type": "code",
   "execution_count": 6,
   "metadata": {},
   "outputs": [],
   "source": [
    "num_all = tmp[:, :, :, 2].reshape(10, -1)"
   ]
  },
  {
   "cell_type": "code",
   "execution_count": 7,
   "metadata": {},
   "outputs": [
    {
     "data": {
      "image/png": "[encoded data removed]",
      "text/plain": [
       "<Figure size 216x144 with 1 Axes>"
      ]
     },
     "metadata": {},
     "output_type": "display_data"
    }
   ],
   "source": [
    "plt.figure(figsize=(3, 2))\n",
    "for i in range(10):\n",
    "    if i == 0:\n",
    "        plt.scatter(np.random.normal(loc=i+1, scale=0.08, size=100), num_all[i] + np.random.normal(loc=0, scale=0.08, size=100), s=1, alpha=0.5, c=\"C0\", label=\"each\")\n",
    "        plt.scatter(np.random.normal(loc=i+1, scale=0.08, size=10), num_min[i] + np.random.normal(loc=0, scale=0.08, size=10), s=10, marker=\"o\", c=\"C1\", label=\"best\")\n",
    "    else:\n",
    "        plt.scatter(np.random.normal(loc=i+1, scale=0.08, size=100), num_all[i] + np.random.normal(loc=0, scale=0.08, size=100), s=1, alpha=0.5, c=\"C0\")\n",
    "        plt.scatter(np.random.normal(loc=i+1, scale=0.08, size=10), num_min[i] + np.random.normal(loc=0, scale=0.08, size=10), s=10, marker=\"o\", c=\"C1\")\n",
    "plt.plot(np.arange(1, 11), num_min.mean(axis=1), alpha=0.3, c=\"C2\", label=\"average\")\n",
    "plt.legend()\n",
    "plt.xlim(0, 11)\n",
    "plt.ylim(0, 11)\n",
    "plt.xticks([2*i for i in range(6)])\n",
    "plt.yticks([2*i for i in range(6)])\n",
    "plt.tick_params(labelleft=False, labelbottom=False)\n",
    "plt.grid()\n",
    "plt.tight_layout()\n",
    "plt.savefig(\"paper/ext_fig2/ext_fig2a.png\")"
   ]
  },
  {
   "cell_type": "code",
   "execution_count": 8,
   "metadata": {},
   "outputs": [],
   "source": [
    "u54 = pd.read_csv(\"txt/U54_30000.txt\", delimiter=\" \", header=None).values"
   ]
  },
  {
   "cell_type": "code",
   "execution_count": 9,
   "metadata": {},
   "outputs": [],
   "source": [
    "tmp = np.zeros((9, 10, 10, 4))\n",
    "for i in range(9):\n",
    "    for j in range(10):\n",
    "        tmp[i, j, :, :] = u54[i*100+j*10:i*100+j*10+10, :]"
   ]
  },
  {
   "cell_type": "code",
   "execution_count": 10,
   "metadata": {},
   "outputs": [],
   "source": [
    "num_min = np.zeros((9, 10))\n",
    "for i in range(9):\n",
    "    for j in range(10):\n",
    "        num_min[i, j] = tmp[i, j, :, 2][tmp[i, j, :, 3].argmin()]"
   ]
  },
  {
   "cell_type": "code",
   "execution_count": 11,
   "metadata": {},
   "outputs": [
    {
     "data": {
      "text/plain": [
       "array([[ 5.,  4.,  4.,  5.,  5.,  5.,  5.,  5.,  5.,  5.],\n",
       "       [ 5.,  5.,  5.,  5.,  5.,  5.,  5.,  5.,  5.,  5.],\n",
       "       [ 5.,  5.,  5.,  5.,  5.,  5.,  5.,  5.,  5.,  5.],\n",
       "       [ 5.,  5.,  5.,  5.,  5.,  5.,  5.,  5.,  5.,  5.],\n",
       "       [ 5.,  5.,  6.,  5.,  5.,  5.,  5.,  5.,  6.,  5.],\n",
       "       [ 6.,  7.,  7.,  8.,  6.,  9.,  6.,  6.,  8.,  6.],\n",
       "       [ 9.,  9.,  9.,  9.,  8.,  8., 10.,  7., 12.,  8.],\n",
       "       [12.,  9., 13., 12., 11., 11., 11., 10., 14., 12.],\n",
       "       [13., 14., 12., 12., 13., 14.,  8., 15., 13., 15.]])"
      ]
     },
     "execution_count": 11,
     "metadata": {},
     "output_type": "execute_result"
    }
   ],
   "source": [
    "num_min"
   ]
  },
  {
   "cell_type": "code",
   "execution_count": 12,
   "metadata": {},
   "outputs": [],
   "source": [
    "num_all = tmp[:, :, :, 2].reshape(10, -1)"
   ]
  },
  {
   "cell_type": "code",
   "execution_count": 13,
   "metadata": {},
   "outputs": [
    {
     "data": {
      "image/png": "[encoded data removed]",
      "text/plain": [
       "<Figure size 216x144 with 1 Axes>"
      ]
     },
     "metadata": {},
     "output_type": "display_data"
    }
   ],
   "source": [
    "plt.figure(figsize=(3, 2))\n",
    "for i in range(9):\n",
    "    if i == 0:\n",
    "        plt.scatter(np.random.normal(loc=(i+1)/10, scale=0.008, size=90), num_all[i] + np.random.normal(loc=0, scale=0.08, size=90), s=1, alpha=0.5, c=\"C0\", label=\"each\")\n",
    "        plt.scatter(np.random.normal(loc=(i+1)/10, scale=0.008, size=10), num_min[i] + np.random.normal(loc=0, scale=0.08, size=10), s=10, marker=\"o\", c=\"C1\", label=\"best\")\n",
    "    else:\n",
    "        plt.scatter(np.random.normal(loc=(i+1)/10, scale=0.008, size=90), num_all[i] + np.random.normal(loc=0, scale=0.08, size=90), s=1, alpha=0.5, c=\"C0\")\n",
    "        plt.scatter(np.random.normal(loc=(i+1)/10, scale=0.008, size=10), num_min[i] + np.random.normal(loc=0, scale=0.08, size=10), s=10, marker=\"o\", c=\"C1\")\n",
    "plt.plot(np.arange(1, 10)/10, num_min.mean(axis=1), alpha=0.3, c=\"C2\", label=\"average\")\n",
    "plt.legend()\n",
    "plt.xlim(0, 1)\n",
    "plt.ylim(0, 20)\n",
    "plt.yticks([0, 5, 10, 15, 20])\n",
    "plt.tick_params(labelleft=False, labelbottom=False)\n",
    "plt.grid()\n",
    "plt.tight_layout()\n",
    "plt.savefig(\"paper/ext_fig2/ext_fig2b.png\")"
   ]
  },
  {
   "cell_type": "code",
   "execution_count": null,
   "metadata": {},
   "outputs": [],
   "source": []
  }
 ],
 "metadata": {
  "kernelspec": {
   "display_name": "Python 3",
   "language": "python",
   "name": "python3"
  },
  "language_info": {
   "codemirror_mode": {
    "name": "ipython",
    "version": 3
   },
   "file_extension": ".py",
   "mimetype": "text/x-python",
   "name": "python",
   "nbconvert_exporter": "python",
   "pygments_lexer": "ipython3",
   "version": "3.7.3"
  }
 },
 "nbformat": 4,
 "nbformat_minor": 2
}

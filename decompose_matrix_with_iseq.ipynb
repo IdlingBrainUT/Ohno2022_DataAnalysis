{
 "cells": [
  {
   "cell_type": "code",
   "execution_count": 1,
   "metadata": {},
   "outputs": [],
   "source": [
    "import numpy as np\n",
    "from matplotlib import pyplot as plt\n",
    "import cupy as cp\n",
    "import igpu"
   ]
  },
  {
   "cell_type": "code",
   "execution_count": 2,
   "metadata": {},
   "outputs": [],
   "source": [
    "mice = [\"mpfc14\", \"mpfc19\", \"mpfc20\", \"mpfc23\", \"mpfc24\", \"mpfc30\"]\n",
    "days = [\"yd1\", \"yd2\", \"yd6\"]"
   ]
  },
  {
   "cell_type": "code",
   "execution_count": 3,
   "metadata": {},
   "outputs": [
    {
     "name": "stdout",
     "output_type": "stream",
     "text": [
      "5 0 4 57906721.42891043\n",
      "5 0 4 57559687.11973795\n",
      "5 0 5 57338603.92944651\n",
      "5 0 4 58104242.24884769\n",
      "5 0 2 59357184.36802068\n",
      "5 0 4 58067606.74518931\n",
      "5 0 4 58012698.53088292\n",
      "5 0 3 58557463.91879783\n",
      "5 0 5 57140211.516218245\n",
      "5 0 4 57823670.31159449\n",
      "5 1 3 26310455.219384324\n",
      "5 1 4 26057802.53908415\n",
      "5 1 4 26049157.77337942\n",
      "5 1 3 26343423.73694184\n",
      "5 1 3 26343496.3474338\n",
      "5 1 4 25978538.46394307\n",
      "5 1 3 26258293.474603873\n",
      "5 1 5 25779172.577575147\n",
      "5 1 2 26679973.537511203\n",
      "5 1 3 26507194.766913462\n",
      "5 2 4 55665159.255459644\n",
      "5 2 5 55114394.00323941\n",
      "5 2 3 56203783.072967246\n",
      "5 2 2 57349626.602142505\n",
      "5 2 4 55129651.74182624\n",
      "5 2 3 56118261.010171324\n",
      "5 2 3 56362029.12522665\n",
      "5 2 3 56370968.593312494\n",
      "5 2 3 56577068.36593849\n",
      "5 2 3 56269659.32026439\n",
      "5 3 4 26939160.84709593\n",
      "5 3 5 26918130.476289798\n",
      "5 3 4 26916524.547480382\n",
      "5 3 4 26848619.060424186\n",
      "5 3 4 26808297.814496122\n",
      "5 3 5 26563416.853863273\n",
      "5 3 5 26797836.996649057\n",
      "5 3 3 27539181.265881058\n",
      "5 3 5 26755017.316934302\n",
      "5 3 4 27117448.38796148\n",
      "5 4 3 32204867.508881707\n",
      "5 4 4 31968187.24482593\n",
      "5 4 4 31894950.978255026\n",
      "5 4 4 31982529.626008667\n",
      "5 4 4 31993936.773768246\n",
      "5 4 4 32024137.054096196\n",
      "5 4 3 32364669.346195437\n",
      "5 4 3 32571590.984431382\n",
      "5 4 4 31919518.316663798\n",
      "5 4 4 31984225.301884755\n",
      "5 5 2 30049412.26282211\n",
      "5 5 2 30248458.086027656\n",
      "5 5 3 29611007.001409855\n",
      "5 5 4 29180926.065522004\n",
      "5 5 3 29660459.392558817\n",
      "5 5 3 29627459.464752566\n",
      "5 5 3 29576286.48275389\n",
      "5 5 3 29646641.612425983\n",
      "5 5 3 29560304.75671511\n",
      "5 5 3 29647213.646524996\n"
     ]
    }
   ],
   "source": [
    "for mi, mouse in enumerate(mice):\n",
    "    for di, day in enumerate(days):\n",
    "        if mi < 5:\n",
    "            continue\n",
    "        x = igpu.open_csv_nonull(mouse + \"/\" + mouse + \"/\" + mouse + \"_\" + day + \".csv\")\n",
    "        w_save = None\n",
    "        h_save = None\n",
    "        k_save = None\n",
    "        cost_min = np.inf\n",
    "        for i in range(10):\n",
    "            model = igpu.solve(x.T, 20, 50, z_th=x.min(), random_seed=i*100+mi*10+di, corr_max=0.3, comp_rate=0.1, Wlim=0.01, Hlim=1.0)\n",
    "            c = model.reconstruction_cost()\n",
    "            print(mi, di, model.k, c)\n",
    "            if c < cost_min:\n",
    "                cost_min = c\n",
    "                w_save = model.W.copy()\n",
    "                h_save = model.H.copy()\n",
    "                k_save = model.k\n",
    "        np.savetxt(mouse + \"/\" + mouse + \"_\" + day + \"_igpu_Wlim001_H.csv\", cp.asnumpy(h_save).T, delimiter=\",\")\n",
    "        for ki in range(k_save):\n",
    "            np.savetxt(mouse + \"/\" + mouse + \"_\" + day + \"_igpu_Wlim001_W\" + str(ki) + \".csv\", cp.asnumpy(w_save[:, ki, :]), delimiter=\",\")"
   ]
  },
  {
   "cell_type": "code",
   "execution_count": null,
   "metadata": {},
   "outputs": [],
   "source": []
  }
 ],
 "metadata": {
  "kernelspec": {
   "display_name": "Python 3",
   "language": "python",
   "name": "python3"
  },
  "language_info": {
   "codemirror_mode": {
    "name": "ipython",
    "version": 3
   },
   "file_extension": ".py",
   "mimetype": "text/x-python",
   "name": "python",
   "nbconvert_exporter": "python",
   "pygments_lexer": "ipython3",
   "version": "3.7.3"
  }
 },
 "nbformat": 4,
 "nbformat_minor": 2
}

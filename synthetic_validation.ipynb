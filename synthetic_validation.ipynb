{
 "cells": [
  {
   "cell_type": "code",
   "execution_count": 2,
   "metadata": {},
   "outputs": [],
   "source": [
    "import numpy as np\n",
    "import pandas as pd\n",
    "from matplotlib import pyplot as plt"
   ]
  },
  {
   "cell_type": "code",
   "execution_count": 3,
   "metadata": {
    "scrolled": true
   },
   "outputs": [],
   "source": [
    "u53 = pd.read_csv(\"txt/U53.txt\", delimiter=\" \", header=None).values"
   ]
  },
  {
   "cell_type": "code",
   "execution_count": 4,
   "metadata": {},
   "outputs": [],
   "source": [
    "tmp = np.zeros((10, 10, 10, 4))\n",
    "for i in range(10):\n",
    "    for j in range(10):\n",
    "        tmp[i, j, :, :] = u53[i*100+j*10:i*100+j*10+10, :]"
   ]
  },
  {
   "cell_type": "code",
   "execution_count": 5,
   "metadata": {},
   "outputs": [
    {
     "data": {
      "text/plain": [
       "1.0"
      ]
     },
     "execution_count": 5,
     "metadata": {},
     "output_type": "execute_result"
    }
   ],
   "source": [
    "tmp[0, 0, :, 2][tmp[0, 0, :, 3].argmin()]"
   ]
  },
  {
   "cell_type": "code",
   "execution_count": 6,
   "metadata": {},
   "outputs": [],
   "source": [
    "num_min = np.zeros((10, 10))\n",
    "for i in range(10):\n",
    "    for j in range(10):\n",
    "        num_min[i, j] = tmp[i, j, :, 2][tmp[i, j, :, 3].argmin()]"
   ]
  },
  {
   "cell_type": "code",
   "execution_count": 7,
   "metadata": {},
   "outputs": [
    {
     "data": {
      "text/plain": [
       "array([[ 1.,  1.,  1.,  1.,  1.,  1.,  1.,  1.,  1.,  1.],\n",
       "       [ 2.,  2.,  2.,  2.,  2.,  2.,  2.,  2.,  2.,  2.],\n",
       "       [ 3.,  3.,  3.,  3.,  3.,  3.,  3.,  3.,  3.,  3.],\n",
       "       [ 4.,  4.,  4.,  4.,  4.,  4.,  4.,  4.,  4.,  4.],\n",
       "       [ 5.,  5.,  5.,  5.,  5.,  5.,  5.,  5.,  5.,  5.],\n",
       "       [ 6.,  6.,  6.,  6.,  6.,  6.,  6.,  6.,  6.,  6.],\n",
       "       [ 7.,  7.,  7.,  7.,  7.,  7.,  7.,  7.,  7.,  7.],\n",
       "       [ 8.,  8.,  8.,  8.,  8.,  8.,  8.,  8.,  8.,  8.],\n",
       "       [ 9.,  9.,  9.,  9.,  9.,  9.,  9.,  9.,  9.,  9.],\n",
       "       [10., 10., 10., 10., 10., 10.,  9.,  8., 10., 10.]])"
      ]
     },
     "execution_count": 7,
     "metadata": {},
     "output_type": "execute_result"
    }
   ],
   "source": [
    "num_min"
   ]
  },
  {
   "cell_type": "code",
   "execution_count": 8,
   "metadata": {},
   "outputs": [],
   "source": [
    "num_all = tmp[:, :, :, 2].reshape(10, -1)"
   ]
  },
  {
   "cell_type": "code",
   "execution_count": 21,
   "metadata": {},
   "outputs": [
    {
     "data": {
      "image/png": "[encoded data removed]",
      "text/plain": [
       "<Figure size 216x144 with 1 Axes>"
      ]
     },
     "metadata": {},
     "output_type": "display_data"
    }
   ],
   "source": [
    "plt.figure(figsize=(3, 2))\n",
    "for i in range(10):\n",
    "    if i == 0:\n",
    "        plt.scatter(np.random.normal(loc=i+1, scale=0.08, size=100), num_all[i] + np.random.normal(loc=0, scale=0.08, size=100), s=1, alpha=0.5, c=\"C0\", label=\"each\")\n",
    "        plt.scatter(np.random.normal(loc=i+1, scale=0.08, size=10), num_min[i] + np.random.normal(loc=0, scale=0.08, size=10), s=10, marker=\"o\", c=\"C1\", label=\"best\")\n",
    "    else:\n",
    "        plt.scatter(np.random.normal(loc=i+1, scale=0.08, size=100), num_all[i] + np.random.normal(loc=0, scale=0.08, size=100), s=1, alpha=0.5, c=\"C0\")\n",
    "        plt.scatter(np.random.normal(loc=i+1, scale=0.08, size=10), num_min[i] + np.random.normal(loc=0, scale=0.08, size=10), s=10, marker=\"o\", c=\"C1\")\n",
    "plt.plot(np.arange(1, 11), num_min.mean(axis=1), alpha=0.3, c=\"C2\", label=\"average\")\n",
    "plt.legend()\n",
    "plt.xlim(0, 11)\n",
    "plt.ylim(0, 11)\n",
    "plt.xticks([2*i for i in range(6)])\n",
    "plt.yticks([2*i for i in range(6)])\n",
    "plt.tick_params(labelleft=False, labelbottom=False)\n",
    "plt.grid()\n",
    "plt.tight_layout()\n",
    "plt.savefig(\"paper/fig1/fig1g.png\")"
   ]
  },
  {
   "cell_type": "code",
   "execution_count": 23,
   "metadata": {},
   "outputs": [],
   "source": [
    "u54 = pd.read_csv(\"txt/U54.txt\", delimiter=\" \", header=None).values"
   ]
  },
  {
   "cell_type": "code",
   "execution_count": 24,
   "metadata": {},
   "outputs": [],
   "source": [
    "tmp = np.zeros((9, 10, 10, 4))\n",
    "for i in range(9):\n",
    "    for j in range(10):\n",
    "        tmp[i, j, :, :] = u54[i*100+j*10:i*100+j*10+10, :]"
   ]
  },
  {
   "cell_type": "code",
   "execution_count": 25,
   "metadata": {},
   "outputs": [],
   "source": [
    "num_min = np.zeros((9, 10))\n",
    "for i in range(9):\n",
    "    for j in range(10):\n",
    "        num_min[i, j] = tmp[i, j, :, 2][tmp[i, j, :, 3].argmin()]"
   ]
  },
  {
   "cell_type": "code",
   "execution_count": 26,
   "metadata": {},
   "outputs": [
    {
     "data": {
      "text/plain": [
       "array([[ 5.,  5.,  5.,  5.,  4.,  5.,  5.,  5.,  5.,  5.],\n",
       "       [ 5.,  5.,  5.,  5.,  5.,  5.,  5.,  5.,  5.,  5.],\n",
       "       [ 5.,  5.,  5.,  5.,  5.,  5.,  5.,  5.,  5.,  5.],\n",
       "       [ 5.,  5.,  5.,  5.,  5.,  5.,  5.,  5.,  5.,  5.],\n",
       "       [ 5.,  5.,  6.,  6.,  7.,  5.,  6.,  5.,  5.,  6.],\n",
       "       [ 7.,  7.,  9.,  8.,  9.,  7.,  7.,  7.,  6.,  6.],\n",
       "       [ 8.,  9.,  9.,  7.,  9., 11., 10.,  9.,  9., 10.],\n",
       "       [11., 10., 14.,  9.,  9., 10., 10., 11., 11., 13.],\n",
       "       [13., 13., 13., 13., 14., 14., 16., 15., 13., 15.]])"
      ]
     },
     "execution_count": 26,
     "metadata": {},
     "output_type": "execute_result"
    }
   ],
   "source": [
    "num_min"
   ]
  },
  {
   "cell_type": "code",
   "execution_count": 27,
   "metadata": {},
   "outputs": [],
   "source": [
    "num_all = tmp[:, :, :, 2].reshape(10, -1)"
   ]
  },
  {
   "cell_type": "code",
   "execution_count": 32,
   "metadata": {},
   "outputs": [
    {
     "data": {
      "image/png": "[encoded data removed]",
      "text/plain": [
       "<Figure size 216x144 with 1 Axes>"
      ]
     },
     "metadata": {},
     "output_type": "display_data"
    }
   ],
   "source": [
    "plt.figure(figsize=(3, 2))\n",
    "for i in range(9):\n",
    "    if i == 0:\n",
    "        plt.scatter(np.random.normal(loc=(i+1)/10, scale=0.008, size=90), num_all[i] + np.random.normal(loc=0, scale=0.08, size=90), s=1, alpha=0.5, c=\"C0\", label=\"each\")\n",
    "        plt.scatter(np.random.normal(loc=(i+1)/10, scale=0.008, size=10), num_min[i] + np.random.normal(loc=0, scale=0.08, size=10), s=10, marker=\"o\", c=\"C1\", label=\"best\")\n",
    "    else:\n",
    "        plt.scatter(np.random.normal(loc=(i+1)/10, scale=0.008, size=90), num_all[i] + np.random.normal(loc=0, scale=0.08, size=90), s=1, alpha=0.5, c=\"C0\")\n",
    "        plt.scatter(np.random.normal(loc=(i+1)/10, scale=0.008, size=10), num_min[i] + np.random.normal(loc=0, scale=0.08, size=10), s=10, marker=\"o\", c=\"C1\")\n",
    "plt.plot(np.arange(1, 10)/10, num_min.mean(axis=1), alpha=0.3, c=\"C2\", label=\"average\")\n",
    "plt.legend()\n",
    "plt.xlim(0, 1)\n",
    "plt.ylim(0, 20)\n",
    "plt.yticks([0, 5, 10, 15, 20])\n",
    "plt.tick_params(labelleft=False, labelbottom=False)\n",
    "plt.grid()\n",
    "plt.tight_layout()\n",
    "plt.savefig(\"paper/fig1/fig1f.png\")"
   ]
  },
  {
   "cell_type": "code",
   "execution_count": 98,
   "metadata": {},
   "outputs": [
    {
     "data": {
      "text/plain": [
       "array([[1.00000000e-01, 0.00000000e+00, 5.00000000e+00, 1.22001374e+07],\n",
       "       [1.00000000e-01, 0.00000000e+00, 2.00000000e+00, 9.00514823e+07],\n",
       "       [1.00000000e-01, 0.00000000e+00, 3.00000000e+00, 6.92703560e+07],\n",
       "       ...,\n",
       "       [9.00000000e-01, 9.00000000e+00, 1.50000000e+01, 3.32582653e+06],\n",
       "       [9.00000000e-01, 9.00000000e+00, 1.40000000e+01, 5.74753644e+06],\n",
       "       [9.00000000e-01, 9.00000000e+00, 1.60000000e+01, 3.25306040e+06]])"
      ]
     },
     "execution_count": 98,
     "metadata": {},
     "output_type": "execute_result"
    }
   ],
   "source": [
    "u54"
   ]
  },
  {
   "cell_type": "code",
   "execution_count": 99,
   "metadata": {},
   "outputs": [
    {
     "data": {
      "text/plain": [
       "array([[ 5.,  2.,  3.,  4.,  4.,  5.,  4.,  3.,  3.,  4.,  2.,  4.,  3.,\n",
       "         4.,  4.,  2.,  5.,  3.,  4.,  4.,  4.,  4.,  4.,  3.,  3.,  3.,\n",
       "         1.,  5.,  3.,  3.,  5.,  4.,  3.,  4.,  4.,  4.,  3.,  4.,  4.,\n",
       "         4.,  4.,  2.,  4.,  4.,  3.,  4.,  2.,  4.,  4.,  3.,  5.,  5.,\n",
       "         4.,  2.,  4.,  3.,  2.,  4.,  2.,  4.,  5.,  4.,  3.,  5.,  5.,\n",
       "         4.,  4.,  3.,  3.,  4.,  4.,  4.,  4.,  4.,  4.,  5.,  4.,  3.,\n",
       "         4.,  5.,  4.,  4.,  4.,  4.,  4.,  5.,  5.,  4.,  3.,  3.],\n",
       "       [ 3.,  3.,  4.,  2.,  4.,  5.,  5.,  4.,  3.,  5.,  5.,  5.,  5.,\n",
       "         4.,  5.,  5.,  4.,  3.,  5.,  5.,  5.,  4.,  4.,  4.,  5.,  5.,\n",
       "         4.,  4.,  5.,  4.,  4.,  3.,  5.,  5.,  5.,  5.,  5.,  4.,  5.,\n",
       "         5.,  4.,  3.,  5.,  4.,  3.,  4.,  4.,  4.,  3.,  5.,  4.,  5.,\n",
       "         4.,  4.,  5.,  4.,  3.,  3.,  4.,  4.,  5.,  4.,  5.,  5.,  4.,\n",
       "         5.,  4.,  3.,  5.,  5.,  5.,  5.,  5.,  5.,  4.,  5.,  3.,  4.,\n",
       "         4.,  5.,  4.,  5.,  3.,  5.,  4.,  5.,  4.,  3.,  4.,  3.],\n",
       "       [ 4.,  5.,  5.,  5.,  5.,  5.,  4.,  5.,  5.,  4.,  5.,  5.,  5.,\n",
       "         5.,  4.,  4.,  5.,  5.,  4.,  5.,  5.,  5.,  5.,  5.,  5.,  5.,\n",
       "         5.,  4.,  5.,  5.,  4.,  5.,  5.,  5.,  5.,  5.,  5.,  5.,  4.,\n",
       "         5.,  5.,  5.,  5.,  5.,  5.,  4.,  5.,  5.,  5.,  5.,  5.,  5.,\n",
       "         5.,  5.,  4.,  5.,  5.,  5.,  5.,  5.,  5.,  5.,  5.,  5.,  5.,\n",
       "         5.,  5.,  5.,  5.,  5.,  5.,  5.,  4.,  5.,  5.,  5.,  5.,  5.,\n",
       "         5.,  5.,  5.,  4.,  5.,  5.,  5.,  5.,  5.,  5.,  4.,  5.],\n",
       "       [ 5.,  5.,  5.,  5.,  4.,  5.,  5.,  5.,  5.,  5.,  5.,  5.,  5.,\n",
       "         5.,  4.,  5.,  5.,  5.,  5.,  5.,  5.,  4.,  5.,  5.,  5.,  5.,\n",
       "         5.,  5.,  5.,  5.,  5.,  5.,  5.,  6.,  5.,  5.,  5.,  5.,  5.,\n",
       "         5.,  5.,  5.,  5.,  5.,  5.,  5.,  5.,  5.,  5.,  6.,  5.,  5.,\n",
       "         5.,  5.,  5.,  5.,  5.,  5.,  5.,  5.,  5.,  5.,  5.,  5.,  4.,\n",
       "         5.,  4.,  5.,  5.,  5.,  5.,  5.,  5.,  5.,  5.,  5.,  5.,  5.,\n",
       "         5.,  5.,  5.,  5.,  5.,  5.,  5.,  5.,  5.,  5.,  6.,  5.],\n",
       "       [ 5.,  5.,  5.,  5.,  5.,  5.,  4.,  5.,  5.,  5.,  5.,  4.,  5.,\n",
       "         5.,  5.,  5.,  5.,  5.,  5.,  5.,  5.,  5.,  5.,  5.,  5.,  5.,\n",
       "         5.,  5.,  5.,  5.,  5.,  6.,  5.,  5.,  5.,  5.,  5.,  5.,  4.,\n",
       "         5.,  6.,  6.,  7.,  5.,  5.,  5.,  5.,  5.,  5.,  5.,  6.,  5.,\n",
       "         5.,  5.,  5.,  5.,  6.,  5.,  5.,  5.,  6.,  5.,  5.,  6.,  6.,\n",
       "         5.,  6.,  6.,  6.,  5.,  6.,  7.,  5.,  5.,  5.,  5.,  6.,  6.,\n",
       "         6.,  7.,  7.,  5.,  5.,  5.,  6.,  5.,  5.,  5.,  5.,  5.],\n",
       "       [ 6.,  5.,  5.,  5.,  5.,  9.,  5.,  5.,  5.,  5.,  5.,  5.,  5.,\n",
       "         5.,  5.,  7.,  6.,  6.,  5.,  5.,  7.,  5.,  5.,  5.,  5.,  5.,\n",
       "         5.,  5.,  5.,  5.,  6.,  5.,  5.,  5.,  5.,  5.,  6.,  5.,  5.,\n",
       "         6.,  6.,  5.,  5.,  5.,  6.,  5.,  6.,  5.,  5.,  5.,  5.,  5.,\n",
       "         6.,  5.,  7.,  6.,  5.,  7.,  8.,  6.,  7.,  6.,  6.,  7.,  8.,\n",
       "         6.,  7.,  6.,  8.,  7.,  9.,  6.,  6.,  7.,  7.,  5.,  6.,  7.,\n",
       "         8.,  7.,  9.,  9.,  7.,  8.,  5.,  6.,  8.,  7.,  8.,  6.],\n",
       "       [ 6.,  9.,  6.,  6.,  6.,  8.,  6.,  5.,  6.,  5.,  5.,  6.,  6.,\n",
       "         7.,  6.,  5.,  7.,  6.,  7.,  9.,  7.,  7.,  7.,  7.,  6.,  6.,\n",
       "         6.,  6.,  7.,  6.,  6.,  5.,  5.,  7.,  5.,  7.,  5.,  7.,  5.,\n",
       "         5.,  5.,  7.,  6.,  7.,  5.,  6.,  7.,  5.,  6.,  6.,  7.,  7.,\n",
       "         6.,  6.,  5.,  5.,  5.,  7.,  6.,  7., 10.,  8.,  6.,  7.,  8.,\n",
       "         8.,  7.,  9.,  7.,  9.,  6., 12.,  7.,  8.,  8.,  8.,  7.,  9.,\n",
       "         9.,  9.,  9.,  7.,  9.,  7.,  8.,  8.,  8.,  9.,  9.,  8.],\n",
       "       [ 7.,  8.,  9.,  6.,  7.,  7.,  8.,  7.,  8.,  7.,  8.,  9., 10.,\n",
       "         8.,  7.,  8.,  7., 10.,  9.,  8., 11.,  7.,  7.,  9.,  8.,  9.,\n",
       "         6.,  8.,  7.,  7., 10.,  9.,  7., 10.,  7.,  8.,  8.,  7., 10.,\n",
       "        10.,  9.,  8.,  9.,  7.,  9.,  7.,  9.,  8., 11.,  7.,  8., 11.,\n",
       "         9., 10.,  9.,  8.,  9.,  6.,  9., 11., 10., 10.,  8.,  9., 10.,\n",
       "        10.,  8.,  7.,  8.,  9., 11., 11., 11.,  9., 12., 10., 11., 10.,\n",
       "        14., 12., 11., 10., 10., 12., 13.,  7., 10.,  8., 11.,  9.],\n",
       "       [ 8., 11., 11., 10., 14., 12.,  8.,  9., 12., 13.,  9., 11., 12.,\n",
       "        11., 10.,  9.,  9., 11.,  9., 12., 12., 10.,  9.,  9., 11.,  9.,\n",
       "        13., 10.,  7.,  9., 10.,  9., 10., 12., 11.,  8., 13., 14., 11.,\n",
       "        10., 11., 10., 10., 13.,  6., 13., 10., 13., 11.,  9., 10., 11.,\n",
       "        11., 12., 12., 10., 10., 11., 11., 12., 10.,  8.,  9.,  8., 12.,\n",
       "        14., 11., 11., 14.,  8., 12., 12., 11., 10., 13.,  9., 13., 11.,\n",
       "        12., 13., 14., 13., 11., 16., 14., 14., 13., 13., 10., 14.],\n",
       "       [13., 14., 12., 15., 14., 13., 12., 12., 11., 11., 13., 15., 12.,\n",
       "        15., 13., 13., 14., 13., 13., 13., 14., 16., 17., 12., 12., 13.,\n",
       "        15., 14., 10., 13., 13., 14., 12., 15., 15., 13., 15., 15., 12.,\n",
       "        13., 12., 11., 16., 15., 14., 12., 14., 13., 14., 13., 16., 15.,\n",
       "        14., 10., 13., 13., 13., 16., 15., 15., 14., 15., 13., 12., 15.,\n",
       "        13., 14., 11., 13., 16., 14., 14., 13., 13., 14., 14., 12., 15.,\n",
       "        14., 14., 13., 15., 13., 14., 14., 13., 14., 15., 14., 16.]])"
      ]
     },
     "execution_count": 99,
     "metadata": {},
     "output_type": "execute_result"
    }
   ],
   "source": [
    "num_all"
   ]
  },
  {
   "cell_type": "code",
   "execution_count": null,
   "metadata": {},
   "outputs": [],
   "source": []
  }
 ],
 "metadata": {
  "kernelspec": {
   "display_name": "Python 3",
   "language": "python",
   "name": "python3"
  },
  "language_info": {
   "codemirror_mode": {
    "name": "ipython",
    "version": 3
   },
   "file_extension": ".py",
   "mimetype": "text/x-python",
   "name": "python",
   "nbconvert_exporter": "python",
   "pygments_lexer": "ipython3",
   "version": "3.7.3"
  }
 },
 "nbformat": 4,
 "nbformat_minor": 2
}

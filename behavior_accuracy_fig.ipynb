{
 "cells": [
  {
   "cell_type": "code",
   "execution_count": 1,
   "metadata": {},
   "outputs": [],
   "source": [
    "import numpy as np\n",
    "from matplotlib import pyplot as plt\n",
    "import pandas as pd\n",
    "import pickle\n",
    "from scipy import stats\n",
    "from statsmodels.stats.anova import AnovaRM\n",
    "from statsmodels.stats.multicomp import pairwise_tukeyhsd"
   ]
  },
  {
   "cell_type": "code",
   "execution_count": 2,
   "metadata": {},
   "outputs": [],
   "source": [
    "mice = [\"mpfc14\", \"mpfc19\", \"mpfc20\", \"mpfc23\", \"mpfc24\", \"mpfc30\"]\n",
    "days = [\"yd1\", \"yd2\", \"yd6\"]"
   ]
  },
  {
   "cell_type": "code",
   "execution_count": 3,
   "metadata": {},
   "outputs": [],
   "source": [
    "beh = []\n",
    "for mi, mouse in enumerate(mice):\n",
    "    behs = []\n",
    "    for di, day in enumerate(days):\n",
    "        df = pd.read_csv(\"behavior/\" + mouse + \"/\" +mouse + \"_\" + day + \".csv\", header=None).values\n",
    "        \n",
    "        n = len(df[:, 0])\n",
    "        t = np.zeros(n)\n",
    "        for i in range(1, n-1):\n",
    "            if df[i, 0] == 1:\n",
    "                t[i] = 1\n",
    "            else:\n",
    "                if df[i-1, 0] == 1 and df[i+1, 0] == 1:\n",
    "                    t[i] = 1\n",
    "        df[:, 0] = t.copy()\n",
    "        \n",
    "        # koko\n",
    "        count = 0\n",
    "        for i in range(n):\n",
    "            if df[i, 2] == 1:\n",
    "                count = 0\n",
    "            elif df[i, 1] == 1:\n",
    "                if count < 50:\n",
    "                    df[i, 1] = 0\n",
    "                count = 0\n",
    "            else:\n",
    "                count += 1\n",
    "                \n",
    "        behs.append(df)\n",
    "    beh.append(behs)"
   ]
  },
  {
   "cell_type": "code",
   "execution_count": 4,
   "metadata": {},
   "outputs": [
    {
     "data": {
      "image/png": "[encoded data removed]",
      "text/plain": [
       "<Figure size 216x216 with 1 Axes>"
      ]
     },
     "metadata": {},
     "output_type": "display_data"
    }
   ],
   "source": [
    "plt.figure(figsize=(3, 3))\n",
    "for di, day in enumerate([\"Day1\", \"Day2\", \"Day6\"]):\n",
    "    tmp = np.zeros((100, 6))\n",
    "    tmp[:, :] = np.nan\n",
    "    for mj, _ in enumerate(mice):\n",
    "        rew = np.where(beh[mj][di][:, 2])[0]\n",
    "        tmp[:len(rew), mj] = rew\n",
    "    n = np.sum(np.isnan(tmp).sum(axis=1) == 0)\n",
    "    xerr = np.sqrt(tmp[:n].var(axis=1) / 5)\n",
    "    plt.errorbar(tmp[:n].mean(axis=1), np.arange(n)+1, xerr=xerr, fmt=\"o\", ecolor=\"black\", markeredgecolor=\"black\", color=\"C\"+str(di), label=day)\n",
    "plt.legend()\n",
    "plt.xticks([5000*i for i in range(5)], [1000*i for i in range(5)])\n",
    "plt.xlim(plt.xlim()[0], 4.5*5000)\n",
    "plt.yticks([10*i for i in range(5)])\n",
    "#plt.xlabel(\"Time (s)\")\n",
    "#plt.ylabel(\"# Reward\")\n",
    "plt.tick_params(labelleft=False, labelbottom=False)\n",
    "plt.tight_layout()\n",
    "plt.savefig(\"paper/fig2/fig2c.png\")"
   ]
  },
  {
   "cell_type": "code",
   "execution_count": 5,
   "metadata": {},
   "outputs": [
    {
     "data": {
      "image/png": "[encoded data removed]",
      "text/plain": [
       "<Figure size 216x216 with 1 Axes>"
      ]
     },
     "metadata": {},
     "output_type": "display_data"
    }
   ],
   "source": [
    "tmp = np.zeros((6, 3))\n",
    "plt.figure(figsize=(3, 3))\n",
    "for mi, _ in enumerate(mice):\n",
    "    for di, _ in enumerate(days):\n",
    "        tmp[mi, di] = beh[mi][di][:, 2].sum() / beh[mi][di][:, 1].sum()\n",
    "plt.plot(np.arange(3)+1, tmp.T, color=\"black\", alpha=0.2)\n",
    "plt.boxplot(tmp, sym=\"\")\n",
    "plt.ylim(0.1, 1.1)\n",
    "plt.xticks([1,2,3], [\"Day 1\", \"Day 2\", \"Day 6\"])\n",
    "#plt.ylabel(\"successful lick rate\")\n",
    "plt.tick_params(labelleft=False, labelbottom=False)\n",
    "plt.tight_layout()\n",
    "plt.savefig(\"paper/fig2/fig2d.png\")"
   ]
  },
  {
   "cell_type": "code",
   "execution_count": 7,
   "metadata": {},
   "outputs": [],
   "source": [
    "with open(\"succ_lick_rate.pkl\", \"wb\") as f:\n",
    "    pickle.dump(tmp, f)"
   ]
  },
  {
   "cell_type": "code",
   "execution_count": 12,
   "metadata": {},
   "outputs": [
    {
     "name": "stdout",
     "output_type": "stream",
     "text": [
      "[0.31742786 0.001      0.001     ]\n"
     ]
    }
   ],
   "source": [
    "df = pd.DataFrame({\n",
    "    \"rate\": np.hstack((tmp[:, 0], tmp[:, 1], tmp[:, 2])),\n",
    "    \"day\": np.repeat([\"Day1\", \"Day2\", \"Day6\"], 6)\n",
    "})\n",
    "tukey = pairwise_tukeyhsd(endog=df['rate'],\n",
    "                          groups=df['day'],\n",
    "                          alpha=0.05)\n",
    "print(tukey.pvalues)"
   ]
  },
  {
   "cell_type": "code",
   "execution_count": 10,
   "metadata": {},
   "outputs": [
    {
     "data": {
      "text/plain": [
       "Ttest_relResult(statistic=-10.743506857056339, pvalue=0.00012108258850381591)"
      ]
     },
     "execution_count": 10,
     "metadata": {},
     "output_type": "execute_result"
    }
   ],
   "source": [
    "stats.ttest_rel(tmp[:, 0], tmp[:, 2])"
   ]
  },
  {
   "cell_type": "code",
   "execution_count": 11,
   "metadata": {},
   "outputs": [
    {
     "data": {
      "text/plain": [
       "Ttest_relResult(statistic=-7.704728630789379, pvalue=0.0005877082031010022)"
      ]
     },
     "execution_count": 11,
     "metadata": {},
     "output_type": "execute_result"
    }
   ],
   "source": [
    "stats.ttest_rel(tmp[:, 1], tmp[:, 2])"
   ]
  },
  {
   "cell_type": "code",
   "execution_count": null,
   "metadata": {},
   "outputs": [],
   "source": []
  }
 ],
 "metadata": {
  "kernelspec": {
   "display_name": "Python 3",
   "language": "python",
   "name": "python3"
  },
  "language_info": {
   "codemirror_mode": {
    "name": "ipython",
    "version": 3
   },
   "file_extension": ".py",
   "mimetype": "text/x-python",
   "name": "python",
   "nbconvert_exporter": "python",
   "pygments_lexer": "ipython3",
   "version": "3.7.3"
  }
 },
 "nbformat": 4,
 "nbformat_minor": 2
}

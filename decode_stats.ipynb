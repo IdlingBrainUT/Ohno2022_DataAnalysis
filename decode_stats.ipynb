{
 "cells": [
  {
   "cell_type": "code",
   "execution_count": 2,
   "metadata": {},
   "outputs": [],
   "source": [
    "import numpy as np\n",
    "from matplotlib import pyplot as plt\n",
    "import pandas as pd\n",
    "# import cupy as cp\n",
    "import pickle\n",
    "import lstm\n",
    "from scipy import stats\n",
    "import copy\n",
    "from statsmodels.stats.anova import AnovaRM\n",
    "from statsmodels.stats.multicomp import pairwise_tukeyhsd"
   ]
  },
  {
   "cell_type": "code",
   "execution_count": 3,
   "metadata": {},
   "outputs": [],
   "source": [
    "mice = [\"mpfc14\", \"mpfc19\", \"mpfc20\", \"mpfc23\", \"mpfc24\", \"mpfc30\"]\n",
    "days = [\"yd1\", \"yd2\", \"yd6\"]"
   ]
  },
  {
   "cell_type": "code",
   "execution_count": 4,
   "metadata": {},
   "outputs": [],
   "source": [
    "with open(\"no_filt/h_spike_Wlim001.pkl\", \"rb\") as f:\n",
    "    h = pickle.load(f)"
   ]
  },
  {
   "cell_type": "code",
   "execution_count": 10,
   "metadata": {},
   "outputs": [],
   "source": [
    "beh = []\n",
    "for mi, mouse in enumerate(mice):\n",
    "    behs = []\n",
    "    for di, day in enumerate(days):\n",
    "        df = pd.read_csv(\"behavior/\" + mouse + \"/\" +mouse + \"_\" + day + \".csv\", header=None).values\n",
    "        \n",
    "        n = np.sum(~np.isnan(df).any(axis=1))\n",
    "        df = df[:n]\n",
    "        t = np.zeros(n)\n",
    "        for i in range(1, n-1):\n",
    "            if df[i, 0] == 1:\n",
    "                t[i] = 1\n",
    "            else:\n",
    "                if df[i-1, 0] == 1 and df[i+1, 0] == 1:\n",
    "                    t[i] = 1\n",
    "        df[:, 0] = t.copy()\n",
    "        \n",
    "        # koko\n",
    "        count = 0\n",
    "        for i in range(n):\n",
    "            if df[i, 2] == 1:\n",
    "                count = 0\n",
    "            elif df[i, 1] == 1:\n",
    "                if count < 50:\n",
    "                    df[i, 1] = 0\n",
    "                count = 0\n",
    "            else:\n",
    "                count += 1\n",
    "\n",
    "        behs.append(df)\n",
    "    beh.append(behs)"
   ]
  },
  {
   "cell_type": "code",
   "execution_count": 12,
   "metadata": {},
   "outputs": [],
   "source": [
    "# 70 alt\n",
    "## 50\n",
    "with open(\"no_filt/params_spike_50.pkl\", \"rb\") as f:\n",
    "    params = pickle.load(f)\n",
    "with open(\"no_filt/params_spike_all_50.pkl\", \"rb\") as f:\n",
    "    params_all = pickle.load(f)\n",
    "with open(\"no_filt/n_beh_50.pkl\", \"rb\") as f:\n",
    "    n_beh = pickle.load(f)"
   ]
  },
  {
   "cell_type": "code",
   "execution_count": 13,
   "metadata": {},
   "outputs": [
    {
     "name": "stdout",
     "output_type": "stream",
     "text": [
      "mpfc14 yd1\n",
      "mpfc14 yd2\n",
      "mpfc14 yd6\n",
      "mpfc19 yd1\n",
      "mpfc19 yd2\n",
      "mpfc19 yd6\n",
      "mpfc20 yd1\n",
      "mpfc20 yd2\n",
      "mpfc20 yd6\n",
      "mpfc23 yd1\n",
      "mpfc23 yd2\n",
      "mpfc23 yd6\n",
      "mpfc24 yd1\n",
      "mpfc24 yd2\n",
      "mpfc24 yd6\n",
      "mpfc30 yd1\n",
      "mpfc30 yd2\n",
      "mpfc30 yd6\n"
     ]
    }
   ],
   "source": [
    "preds = []\n",
    "for mi, mouse in enumerate(mice):\n",
    "    preds_s = []\n",
    "    for di, day in enumerate(days):\n",
    "        print(mouse, day)\n",
    "        model = lstm.Decoder(params[mi][di])\n",
    "        preds_s.append(model.predict(h[mi][di*2])[49:])\n",
    "    preds.append(preds_s)"
   ]
  },
  {
   "cell_type": "code",
   "execution_count": 14,
   "metadata": {},
   "outputs": [],
   "source": [
    "score = np.zeros((6, 3, 2, 8))\n",
    "for mi, mouse in enumerate(mice):\n",
    "    for di, dayi in enumerate(days):\n",
    "        n = np.sum(~np.isnan(beh[mi][di]).any(axis=1))\n",
    "        start, end = n_beh[mi][di]\n",
    "        beh_train = beh[mi][di][start:end]\n",
    "        beh_test = np.vstack((beh[mi][di][:start], beh[mi][di][end:n]))\n",
    "        pred_train = preds[mi][di][start:end]\n",
    "        pred_test = np.vstack((preds[mi][di][:start], preds[mi][di][end:n]))\n",
    "        rate_train = [\n",
    "            (len(beh_train[:, 0]) - beh_train[:, 0].sum()) / beh_train[:, 0].sum(),\n",
    "            (len(beh_train[:, 1]) - beh_train[:, 1].sum()) / beh_train[:, 1].sum(),\n",
    "            (beh_train[:, 1].sum() - beh_train[:, 2].sum()) / beh_train[:, 2].sum()\n",
    "        ]\n",
    "        rate_test = [\n",
    "            (len(beh_test[:, 0]) - beh_test[:, 0].sum()) / beh_test[:, 0].sum(),\n",
    "            (len(beh_test[:, 1]) - beh_test[:, 1].sum()) / beh_test[:, 1].sum(),\n",
    "            (beh_test[:, 1].sum() - beh_test[:, 2].sum()) / beh_test[:, 2].sum()\n",
    "        ]\n",
    "        err_train = np.square(pred_train - beh_train)\n",
    "        err_test = np.square(pred_test - beh_test)\n",
    "        num_train = np.ones_like(err_train)\n",
    "        num_test = np.ones_like(err_test)\n",
    "        \n",
    "        err_train[beh_train[:, 0] == 1, 0] *= rate_train[0]\n",
    "        num_train[beh_train[:, 0] == 1, 0] *= rate_train[0]\n",
    "        err_train[beh_train[:, 1] == 1, 1] *= rate_train[1]\n",
    "        num_train[beh_train[:, 1] == 1, 1] *= rate_train[1]\n",
    "        err_train[beh_train[:, 2] == 1, 2] *= rate_train[2]\n",
    "        num_train[beh_train[:, 2] == 1, 2] *= rate_train[2]\n",
    "        err_train[beh_train[:, 1] == 0, 2] *= 0\n",
    "        num_train[beh_train[:, 1] == 0, 2] *= 0\n",
    "        \n",
    "        err_test[beh_test[:, 0] == 1, 0] *= rate_test[0]\n",
    "        num_test[beh_test[:, 0] == 1, 0] *= rate_test[0]\n",
    "        err_test[beh_test[:, 1] == 1, 1] *= rate_test[1]\n",
    "        num_test[beh_test[:, 1] == 1, 1] *= rate_test[1]\n",
    "        err_test[beh_test[:, 2] == 1, 2] *= rate_test[2]\n",
    "        num_test[beh_test[:, 2] == 1, 2] *= rate_test[2]\n",
    "        err_test[beh_test[:, 1] == 0, 2] *= 0\n",
    "        num_test[beh_test[:, 1] == 0, 2] *= 0\n",
    "        \n",
    "        score[mi, di, 0, :5] = err_train.sum(axis=0) / num_train.sum(axis=0)\n",
    "        score[mi, di, 1, :5] = err_test.sum(axis=0) / num_test.sum(axis=0)\n",
    "        score[mi, di, 0, 5] = pred_train[beh_train[:, 2] == 1, 2].mean() / pred_train[(beh_train[:, 1] == 1) & (beh_train[:, 2] == 0), 2].mean()\n",
    "        score[mi, di, 1, 5] = pred_test[beh_test[:, 2] == 1, 2].mean() / pred_test[(beh_test[:, 1] == 1) & (beh_test[:, 2] == 0), 2].mean()\n",
    "        score[mi, di, 0, 6:] = score[mi, di, 0, 3:5] / np.square(beh_train[:, 3:] - beh_train[:, 3:].mean(axis=0)).mean(axis=0)\n",
    "        score[mi, di, 1, 6:] = score[mi, di, 1, 3:5] / np.square(beh_test[:, 3:] - beh_test[:, 3:].mean(axis=0)).mean(axis=0)"
   ]
  },
  {
   "cell_type": "code",
   "execution_count": 53,
   "metadata": {},
   "outputs": [
    {
     "name": "stdout",
     "output_type": "stream",
     "text": [
      "0 0\n",
      "Ttest_relResult(statistic=2.7729676701210972, pvalue=0.03922721320792262)\n",
      "Ttest_relResult(statistic=1.267407491228364, pvalue=0.2608288843527579)\n",
      "Ttest_relResult(statistic=-2.3864000033861688, pvalue=0.06266631664147863)\n",
      "              Anova\n",
      "=================================\n",
      "    F Value Num DF  Den DF Pr > F\n",
      "---------------------------------\n",
      "day  4.5147 2.0000 10.0000 0.0401\n",
      "=================================\n",
      "\n",
      "Multiple Comparison of Means - Tukey HSD, FWER=0.05 \n",
      "====================================================\n",
      "group1 group2 meandiff p-adj   lower   upper  reject\n",
      "----------------------------------------------------\n",
      "     0      1  -0.0415 0.1708 -0.0979   0.015  False\n",
      "     0      2  -0.0732 0.0111 -0.1296 -0.0167   True\n",
      "     1      2  -0.0317 0.3384 -0.0881  0.0248  False\n",
      "----------------------------------------------------\n",
      "(array([0. , 0.1, 0.2, 0.3, 0.4]), <a list of 0 Text yticklabel objects>)\n"
     ]
    },
    {
     "data": {
      "image/png": "[encoded data removed]",
      "text/plain": [
       "<Figure size 216x144 with 1 Axes>"
      ]
     },
     "metadata": {},
     "output_type": "display_data"
    },
    {
     "name": "stdout",
     "output_type": "stream",
     "text": [
      "0 1\n",
      "Ttest_relResult(statistic=2.1577962032369418, pvalue=0.08341893822897513)\n",
      "Ttest_relResult(statistic=2.432591230642892, pvalue=0.05919136250529395)\n",
      "Ttest_relResult(statistic=-2.726017525593499, pvalue=0.041476499358686345)\n",
      "              Anova\n",
      "=================================\n",
      "    F Value Num DF  Den DF Pr > F\n",
      "---------------------------------\n",
      "day  6.6085 2.0000 10.0000 0.0148\n",
      "=================================\n",
      "\n",
      "Multiple Comparison of Means - Tukey HSD, FWER=0.05 \n",
      "====================================================\n",
      "group1 group2 meandiff p-adj   lower   upper  reject\n",
      "----------------------------------------------------\n",
      "     0      1  -0.0351 0.2417 -0.0891  0.0189  False\n",
      "     0      2  -0.0861 0.0024   -0.14 -0.0321   True\n",
      "     1      2   -0.051 0.0656 -0.1049   0.003  False\n",
      "----------------------------------------------------\n",
      "(array([0. , 0.1, 0.2, 0.3, 0.4, 0.5]), <a list of 0 Text yticklabel objects>)\n"
     ]
    },
    {
     "data": {
      "image/png": "[encoded data removed]",
      "text/plain": [
       "<Figure size 216x144 with 1 Axes>"
      ]
     },
     "metadata": {},
     "output_type": "display_data"
    },
    {
     "name": "stdout",
     "output_type": "stream",
     "text": [
      "1 0\n",
      "Ttest_relResult(statistic=-1.1898441096211458, pvalue=0.2875201514867003)\n",
      "Ttest_relResult(statistic=3.380427954269668, pvalue=0.01966502336989933)\n",
      "Ttest_relResult(statistic=-0.30552648645010455, pvalue=0.7722758205217783)\n",
      "              Anova\n",
      "=================================\n",
      "    F Value Num DF  Den DF Pr > F\n",
      "---------------------------------\n",
      "day  2.1029 2.0000 10.0000 0.1728\n",
      "=================================\n",
      "\n",
      "Multiple Comparison of Means - Tukey HSD, FWER=0.05\n",
      "===================================================\n",
      "group1 group2 meandiff p-adj   lower  upper  reject\n",
      "---------------------------------------------------\n",
      "     0      1   0.0237 0.3013 -0.0163 0.0638  False\n",
      "     0      2  -0.0041    0.9 -0.0441 0.0359  False\n",
      "     1      2  -0.0278 0.2016 -0.0678 0.0122  False\n",
      "---------------------------------------------------\n",
      "(array([0.05, 0.1 , 0.15, 0.2 , 0.25, 0.3 ]), <a list of 0 Text yticklabel objects>)\n"
     ]
    },
    {
     "data": {
      "image/png": "[encoded data removed]",
      "text/plain": [
       "<Figure size 216x144 with 1 Axes>"
      ]
     },
     "metadata": {},
     "output_type": "display_data"
    },
    {
     "name": "stdout",
     "output_type": "stream",
     "text": [
      "1 1\n",
      "Ttest_relResult(statistic=-0.49904600037763813, pvalue=0.6389247104230679)\n",
      "Ttest_relResult(statistic=0.07866567428645187, pvalue=0.9403497758487376)\n",
      "Ttest_relResult(statistic=0.6085605556023899, pvalue=0.5693997706395666)\n",
      "              Anova\n",
      "=================================\n",
      "    F Value Num DF  Den DF Pr > F\n",
      "---------------------------------\n",
      "day  0.2584 2.0000 10.0000 0.7773\n",
      "=================================\n",
      "\n",
      "Multiple Comparison of Means - Tukey HSD, FWER=0.05\n",
      "===================================================\n",
      "group1 group2 meandiff p-adj   lower  upper  reject\n",
      "---------------------------------------------------\n",
      "     0      1    0.009 0.8552 -0.0358 0.0537  False\n",
      "     0      2   0.0083 0.8767 -0.0365 0.0531  False\n",
      "     1      2  -0.0007    0.9 -0.0454 0.0441  False\n",
      "---------------------------------------------------\n",
      "(array([0.05, 0.1 , 0.15, 0.2 , 0.25, 0.3 , 0.35]), <a list of 0 Text yticklabel objects>)\n"
     ]
    },
    {
     "data": {
      "image/png": "[encoded data removed]",
      "text/plain": [
       "<Figure size 216x144 with 1 Axes>"
      ]
     },
     "metadata": {},
     "output_type": "display_data"
    },
    {
     "name": "stdout",
     "output_type": "stream",
     "text": [
      "2 0\n",
      "Ttest_relResult(statistic=4.411153772752552, pvalue=0.006949084863430483)\n",
      "Ttest_relResult(statistic=1.283632765086144, pvalue=0.25553799518490594)\n",
      "Ttest_relResult(statistic=-6.740880195440098, pvalue=0.0010899523052947655)\n",
      "              Anova\n",
      "=================================\n",
      "    F Value Num DF  Den DF Pr > F\n",
      "---------------------------------\n",
      "day 19.0057 2.0000 10.0000 0.0004\n",
      "=================================\n",
      "\n",
      "Multiple Comparison of Means - Tukey HSD, FWER=0.05 \n",
      "====================================================\n",
      "group1 group2 meandiff p-adj   lower   upper  reject\n",
      "----------------------------------------------------\n",
      "     0      1  -0.1713  0.001 -0.2686  -0.074   True\n",
      "     0      2  -0.2247  0.001  -0.322 -0.1274   True\n",
      "     1      2  -0.0534 0.3538 -0.1507  0.0439  False\n",
      "----------------------------------------------------\n",
      "(array([-0.2,  0. ,  0.2,  0.4,  0.6,  0.8]), <a list of 0 Text yticklabel objects>)\n"
     ]
    },
    {
     "data": {
      "image/png": "[encoded data removed]",
      "text/plain": [
       "<Figure size 216x144 with 1 Axes>"
      ]
     },
     "metadata": {},
     "output_type": "display_data"
    },
    {
     "name": "stdout",
     "output_type": "stream",
     "text": [
      "2 1\n",
      "Ttest_relResult(statistic=1.5013596177961834, pvalue=0.19356537385706152)\n",
      "Ttest_relResult(statistic=2.5056358979086055, pvalue=0.054115860539651756)\n",
      "Ttest_relResult(statistic=-11.803040406801871, pvalue=7.682461436304397e-05)\n",
      "              Anova\n",
      "=================================\n",
      "    F Value Num DF  Den DF Pr > F\n",
      "---------------------------------\n",
      "day 10.5171 2.0000 10.0000 0.0035\n",
      "=================================\n",
      "\n",
      "Multiple Comparison of Means - Tukey HSD, FWER=0.05\n",
      "===================================================\n",
      "group1 group2 meandiff p-adj   lower  upper  reject\n",
      "---------------------------------------------------\n",
      "     0      1  -0.0819 0.1429 -0.1875 0.0237  False\n",
      "     0      2  -0.1856  0.001 -0.2912  -0.08   True\n",
      "     1      2  -0.1037 0.0546 -0.2093 0.0019  False\n",
      "---------------------------------------------------\n",
      "(array([0. , 0.2, 0.4, 0.6]), <a list of 0 Text yticklabel objects>)\n"
     ]
    },
    {
     "data": {
      "image/png": "[encoded data removed]",
      "text/plain": [
       "<Figure size 216x144 with 1 Axes>"
      ]
     },
     "metadata": {},
     "output_type": "display_data"
    },
    {
     "name": "stdout",
     "output_type": "stream",
     "text": [
      "3 0\n",
      "Ttest_relResult(statistic=3.6759076802461803, pvalue=0.01435467800125066)\n",
      "Ttest_relResult(statistic=-0.15681007803357158, pvalue=0.8815297405778622)\n",
      "Ttest_relResult(statistic=-1.5730158864874864, pvalue=0.17652450183182888)\n",
      "              Anova\n",
      "=================================\n",
      "    F Value Num DF  Den DF Pr > F\n",
      "---------------------------------\n",
      "day  2.7632 2.0000 10.0000 0.1108\n",
      "=================================\n",
      "\n",
      "Multiple Comparison of Means - Tukey HSD, FWER=0.05\n",
      "===================================================\n",
      "group1 group2 meandiff p-adj   lower  upper  reject\n",
      "---------------------------------------------------\n",
      "     0      1  -0.0096  0.095 -0.0206 0.0015  False\n",
      "     0      2  -0.0088 0.1297 -0.0198 0.0022  False\n",
      "     1      2   0.0008    0.9 -0.0103 0.0118  False\n",
      "---------------------------------------------------\n",
      "(array([0.02, 0.04, 0.06, 0.08]), <a list of 0 Text yticklabel objects>)\n"
     ]
    },
    {
     "data": {
      "image/png": "[encoded data removed]",
      "text/plain": [
       "<Figure size 216x144 with 1 Axes>"
      ]
     },
     "metadata": {},
     "output_type": "display_data"
    },
    {
     "name": "stdout",
     "output_type": "stream",
     "text": [
      "3 1\n",
      "Ttest_relResult(statistic=5.844737062522603, pvalue=0.0020752941493432384)\n",
      "Ttest_relResult(statistic=-1.095822917010449, pvalue=0.32310978049934164)\n",
      "Ttest_relResult(statistic=-0.7751487550661046, pvalue=0.4732986610559905)\n",
      "              Anova\n",
      "=================================\n",
      "    F Value Num DF  Den DF Pr > F\n",
      "---------------------------------\n",
      "day  2.3957 2.0000 10.0000 0.1412\n",
      "=================================\n",
      "\n",
      "Multiple Comparison of Means - Tukey HSD, FWER=0.05\n",
      "===================================================\n",
      "group1 group2 meandiff p-adj   lower  upper  reject\n",
      "---------------------------------------------------\n",
      "     0      1  -0.0107 0.1081 -0.0235 0.0021  False\n",
      "     0      2   -0.005  0.579 -0.0178 0.0078  False\n",
      "     1      2   0.0057 0.4921 -0.0071 0.0185  False\n",
      "---------------------------------------------------\n",
      "(array([0.03, 0.04, 0.05, 0.06, 0.07, 0.08, 0.09]), <a list of 0 Text yticklabel objects>)\n"
     ]
    },
    {
     "data": {
      "image/png": "[encoded data removed]",
      "text/plain": [
       "<Figure size 216x144 with 1 Axes>"
      ]
     },
     "metadata": {},
     "output_type": "display_data"
    },
    {
     "name": "stdout",
     "output_type": "stream",
     "text": [
      "4 0\n",
      "Ttest_relResult(statistic=-0.8149169047044669, pvalue=0.4521734850592832)\n",
      "Ttest_relResult(statistic=-0.5133048924927534, pvalue=0.6296063806774517)\n",
      "Ttest_relResult(statistic=1.1454641186120986, pvalue=0.30386624931895767)\n",
      "              Anova\n",
      "=================================\n",
      "    F Value Num DF  Den DF Pr > F\n",
      "---------------------------------\n",
      "day  0.7548 2.0000 10.0000 0.4951\n",
      "=================================\n",
      "\n",
      "Multiple Comparison of Means - Tukey HSD, FWER=0.05\n",
      "===================================================\n",
      "group1 group2 meandiff p-adj   lower  upper  reject\n",
      "---------------------------------------------------\n",
      "     0      1   0.0016 0.7992  -0.005 0.0082  False\n",
      "     0      2   0.0029 0.5099 -0.0037 0.0095  False\n",
      "     1      2   0.0013 0.8582 -0.0053 0.0079  False\n",
      "---------------------------------------------------\n",
      "(array([0.01 , 0.015, 0.02 , 0.025, 0.03 , 0.035]), <a list of 0 Text yticklabel objects>)\n"
     ]
    },
    {
     "data": {
      "image/png": "[encoded data removed]",
      "text/plain": [
       "<Figure size 216x144 with 1 Axes>"
      ]
     },
     "metadata": {},
     "output_type": "display_data"
    },
    {
     "name": "stdout",
     "output_type": "stream",
     "text": [
      "4 1\n",
      "Ttest_relResult(statistic=-1.366979873606538, pvalue=0.22988537666243192)\n",
      "Ttest_relResult(statistic=-1.3623304267094907, pvalue=0.23125080702694867)\n",
      "Ttest_relResult(statistic=2.146058601372007, pvalue=0.08466595333179963)\n",
      "              Anova\n",
      "=================================\n",
      "    F Value Num DF  Den DF Pr > F\n",
      "---------------------------------\n",
      "day  3.0209 2.0000 10.0000 0.0941\n",
      "=================================\n",
      "\n",
      "Multiple Comparison of Means - Tukey HSD, FWER=0.05\n",
      "===================================================\n",
      "group1 group2 meandiff p-adj   lower  upper  reject\n",
      "---------------------------------------------------\n",
      "     0      1   0.0023 0.6649 -0.0047 0.0093  False\n",
      "     0      2   0.0068 0.0587 -0.0002 0.0138  False\n",
      "     1      2   0.0045 0.2549 -0.0025 0.0114  False\n",
      "---------------------------------------------------\n",
      "(array([0.01, 0.02, 0.03, 0.04, 0.05]), <a list of 0 Text yticklabel objects>)\n"
     ]
    },
    {
     "data": {
      "image/png": "[encoded data removed]",
      "text/plain": [
       "<Figure size 216x144 with 1 Axes>"
      ]
     },
     "metadata": {},
     "output_type": "display_data"
    },
    {
     "name": "stdout",
     "output_type": "stream",
     "text": [
      "5 0\n",
      "Ttest_relResult(statistic=-1.1630667154945553, pvalue=0.29728718854972536)\n",
      "Ttest_relResult(statistic=-0.1202763847609812, pvalue=0.9089478465897942)\n",
      "Ttest_relResult(statistic=3.5525874091212137, pvalue=0.016342564509020822)\n",
      "              Anova\n",
      "=================================\n",
      "    F Value Num DF  Den DF Pr > F\n",
      "---------------------------------\n",
      "day  1.1988 2.0000 10.0000 0.3414\n",
      "=================================\n",
      "\n",
      "Multiple Comparison of Means - Tukey HSD, FWER=0.05 \n",
      "====================================================\n",
      "group1 group2 meandiff p-adj   lower   upper  reject\n",
      "----------------------------------------------------\n",
      "     0      1   4.5156 0.3801 -4.0238 13.0551  False\n",
      "     0      2   5.0752    0.3 -3.4642 13.6146  False\n",
      "     1      2   0.5595    0.9 -7.9799  9.0989  False\n",
      "----------------------------------------------------\n",
      "(array([ 0., 10., 20., 30., 40.]), <a list of 0 Text yticklabel objects>)\n"
     ]
    },
    {
     "data": {
      "image/png": "[encoded data removed]",
      "text/plain": [
       "<Figure size 216x144 with 1 Axes>"
      ]
     },
     "metadata": {},
     "output_type": "display_data"
    },
    {
     "name": "stdout",
     "output_type": "stream",
     "text": [
      "5 1\n",
      "Ttest_relResult(statistic=-0.8244615589661882, pvalue=0.4472092712634791)\n",
      "Ttest_relResult(statistic=-0.5990789804523892, pvalue=0.5752280706856833)\n",
      "Ttest_relResult(statistic=2.384326088862058, pvalue=0.0628274320227975)\n",
      "              Anova\n",
      "=================================\n",
      "    F Value Num DF  Den DF Pr > F\n",
      "---------------------------------\n",
      "day  1.2848 2.0000 10.0000 0.3187\n",
      "=================================\n",
      "\n",
      "Multiple Comparison of Means - Tukey HSD, FWER=0.05\n",
      "===================================================\n",
      "group1 group2 meandiff p-adj   lower  upper  reject\n",
      "---------------------------------------------------\n",
      "     0      1   1.1513 0.5874 -1.8511 4.1537  False\n",
      "     0      2   2.0425 0.2142 -0.9599 5.0449  False\n",
      "     1      2   0.8912 0.7139 -2.1112 3.8936  False\n",
      "---------------------------------------------------\n",
      "(array([ 0. ,  2.5,  5. ,  7.5, 10. , 12.5]), <a list of 0 Text yticklabel objects>)\n"
     ]
    },
    {
     "data": {
      "image/png": "[encoded data removed]",
      "text/plain": [
       "<Figure size 216x144 with 1 Axes>"
      ]
     },
     "metadata": {},
     "output_type": "display_data"
    },
    {
     "name": "stdout",
     "output_type": "stream",
     "text": [
      "6 0\n",
      "Ttest_relResult(statistic=5.390700027565219, pvalue=0.0029645064240192546)\n",
      "Ttest_relResult(statistic=0.7065723702534716, pvalue=0.5113889756625092)\n",
      "Ttest_relResult(statistic=-2.3352711566022943, pvalue=0.06677180101185702)\n",
      "              Anova\n",
      "=================================\n",
      "    F Value Num DF  Den DF Pr > F\n",
      "---------------------------------\n",
      "day  4.8812 2.0000 10.0000 0.0332\n",
      "=================================\n",
      "\n",
      "Multiple Comparison of Means - Tukey HSD, FWER=0.05 \n",
      "====================================================\n",
      "group1 group2 meandiff p-adj   lower   upper  reject\n",
      "----------------------------------------------------\n",
      "     0      1  -0.1981  0.054 -0.3994  0.0032  False\n",
      "     0      2  -0.2657 0.0098  -0.467 -0.0644   True\n",
      "     1      2  -0.0676 0.6573 -0.2689  0.1337  False\n",
      "----------------------------------------------------\n",
      "(array([0.  , 0.25, 0.5 , 0.75, 1.  , 1.25, 1.5 ]), <a list of 0 Text yticklabel objects>)\n"
     ]
    },
    {
     "data": {
      "image/png": "[encoded data removed]",
      "text/plain": [
       "<Figure size 216x144 with 1 Axes>"
      ]
     },
     "metadata": {},
     "output_type": "display_data"
    },
    {
     "name": "stdout",
     "output_type": "stream",
     "text": [
      "6 1\n",
      "Ttest_relResult(statistic=4.247323392803882, pvalue=0.008112546058762476)\n",
      "Ttest_relResult(statistic=0.26179152071592554, pvalue=0.8039246190860508)\n",
      "Ttest_relResult(statistic=-2.148588679496939, pvalue=0.08439549371292858)\n",
      "              Anova\n",
      "=================================\n",
      "    F Value Num DF  Den DF Pr > F\n",
      "---------------------------------\n",
      "day  4.8915 2.0000 10.0000 0.0330\n",
      "=================================\n",
      "\n",
      "Multiple Comparison of Means - Tukey HSD, FWER=0.05 \n",
      "====================================================\n",
      "group1 group2 meandiff p-adj   lower   upper  reject\n",
      "----------------------------------------------------\n",
      "     0      1  -0.2091 0.0382 -0.4073 -0.0108   True\n",
      "     0      2  -0.2293 0.0228 -0.4275  -0.031   True\n",
      "     1      2  -0.0202    0.9 -0.2185  0.1781  False\n",
      "----------------------------------------------------\n",
      "(array([0.4, 0.6, 0.8, 1. , 1.2, 1.4]), <a list of 0 Text yticklabel objects>)\n"
     ]
    },
    {
     "data": {
      "image/png": "[encoded data removed]",
      "text/plain": [
       "<Figure size 216x144 with 1 Axes>"
      ]
     },
     "metadata": {},
     "output_type": "display_data"
    },
    {
     "name": "stdout",
     "output_type": "stream",
     "text": [
      "7 0\n",
      "Ttest_relResult(statistic=1.8540867256561147, pvalue=0.12290134858062324)\n",
      "Ttest_relResult(statistic=3.623043152653343, pvalue=0.015170952300879675)\n",
      "Ttest_relResult(statistic=-2.981084914116461, pvalue=0.030761453497686032)\n",
      "              Anova\n",
      "=================================\n",
      "    F Value Num DF  Den DF Pr > F\n",
      "---------------------------------\n",
      "day  9.0009 2.0000 10.0000 0.0058\n",
      "=================================\n",
      "\n",
      "Multiple Comparison of Means - Tukey HSD, FWER=0.05 \n",
      "====================================================\n",
      "group1 group2 meandiff p-adj   lower   upper  reject\n",
      "----------------------------------------------------\n",
      "     0      1  -0.0814 0.4049 -0.2408  0.0781  False\n",
      "     0      2  -0.2741 0.0012 -0.4335 -0.1147   True\n",
      "     1      2  -0.1927 0.0174 -0.3522 -0.0333   True\n",
      "----------------------------------------------------\n",
      "(array([0.4, 0.6, 0.8, 1. , 1.2, 1.4]), <a list of 0 Text yticklabel objects>)\n"
     ]
    },
    {
     "data": {
      "image/png": "[encoded data removed]",
      "text/plain": [
       "<Figure size 216x144 with 1 Axes>"
      ]
     },
     "metadata": {},
     "output_type": "display_data"
    },
    {
     "name": "stdout",
     "output_type": "stream",
     "text": [
      "7 1\n",
      "Ttest_relResult(statistic=1.7468353766620615, pvalue=0.14109658363773206)\n",
      "Ttest_relResult(statistic=3.4389631160252168, pvalue=0.018456017804948485)\n",
      "Ttest_relResult(statistic=-2.671213337791392, pvalue=0.04428402670926888)\n",
      "              Anova\n",
      "=================================\n",
      "    F Value Num DF  Den DF Pr > F\n",
      "---------------------------------\n",
      "day  6.7411 2.0000 10.0000 0.0140\n",
      "=================================\n",
      "\n",
      "Multiple Comparison of Means - Tukey HSD, FWER=0.05 \n",
      "====================================================\n",
      "group1 group2 meandiff p-adj   lower   upper  reject\n",
      "----------------------------------------------------\n",
      "     0      1  -0.0767  0.265  -0.199  0.0456  False\n",
      "     0      2  -0.1865 0.0034 -0.3088 -0.0642   True\n",
      "     1      2  -0.1098 0.0818 -0.2321  0.0125  False\n",
      "----------------------------------------------------\n",
      "(array([0.6, 0.8, 1. , 1.2, 1.4]), <a list of 0 Text yticklabel objects>)\n"
     ]
    },
    {
     "data": {
      "image/png": "[encoded data removed]",
      "text/plain": [
       "<Figure size 216x144 with 1 Axes>"
      ]
     },
     "metadata": {},
     "output_type": "display_data"
    }
   ],
   "source": [
    "for si in range(8):\n",
    "    for ti in range(2):\n",
    "        print(si, ti)\n",
    "        plt.figure(figsize=(3, 2))\n",
    "        for s in score[:, :, ti, si]:\n",
    "            plt.plot(np.arange(1, 4), s, color=\"k\", alpha=0.2)\n",
    "        plt.boxplot(score[:, :, ti, si])\n",
    "        for i in range(3):\n",
    "            print(stats.ttest_rel(score[:, i, ti, si], score[:, (i+1) % 3, ti, si]))\n",
    "        df = pd.DataFrame({\n",
    "            \"mouse\": np.tile(np.arange(6), 3),\n",
    "            \"day\": np.repeat(np.arange(3), 6),\n",
    "            \"error\": np.hstack([score[:, i, ti, si] for i in range(3)])\n",
    "        })\n",
    "        print(AnovaRM(data=df, depvar=\"error\", subject=\"mouse\", within=[\"day\"]).fit())\n",
    "        tukey = pairwise_tukeyhsd(endog=df['error'],\n",
    "                                  groups=df['day'],\n",
    "                                  alpha=0.05)\n",
    "        print(tukey)\n",
    "        plt.xticks([1, 2, 3], [\"Day 1\", \"Day 2\", \"Day6\"])\n",
    "        plt.tick_params(labelleft=False, labelbottom=False)\n",
    "        y0, y1 = plt.ylim()\n",
    "        plt.ylim(y0, y1 + (y1 - y0) / 2)\n",
    "        plt.tight_layout()\n",
    "        print(plt.yticks())\n",
    "        plt.savefig(\"paper/fig4/\" + str(si) + \"_\" + str(ti) + \".png\")\n",
    "        plt.show()"
   ]
  },
  {
   "cell_type": "code",
   "execution_count": 16,
   "metadata": {},
   "outputs": [],
   "source": [
    "score_full = np.zeros((6, 3, 8))\n",
    "for mi, mouse in enumerate(mice):\n",
    "    for di, dayi in enumerate(days):\n",
    "        n = np.sum(~np.isnan(beh[mi][di]).any(axis=1))\n",
    "        beh_full = beh[mi][di][:n]\n",
    "        pred_full = preds[mi][di][:n]\n",
    "        rate = [\n",
    "            (len(beh_full[:, 0]) - beh_full[:, 0].sum()) / beh_full[:, 0].sum(),\n",
    "            (len(beh_full[:, 1]) - beh_full[:, 1].sum()) / beh_full[:, 1].sum(),\n",
    "            (beh_full[:, 1].sum() - beh_full[:, 2].sum()) / beh_full[:, 2].sum()\n",
    "        ]\n",
    "        err_full = np.square(pred_full - beh_full)\n",
    "        num_full = np.ones_like(err_full)\n",
    "        \n",
    "        err_full[beh_full[:, 0] == 1, 0] *= rate[0]\n",
    "        num_full[beh_full[:, 0] == 1, 0] *= rate[0]\n",
    "        err_full[beh_full[:, 1] == 1, 1] *= rate[1]\n",
    "        num_full[beh_full[:, 1] == 1, 1] *= rate[1]\n",
    "        err_full[beh_full[:, 2] == 1, 2] *= rate[2]\n",
    "        num_full[beh_full[:, 2] == 1, 2] *= rate[2]\n",
    "        err_full[beh_full[:, 1] == 0, 2] *= 0\n",
    "        num_full[beh_full[:, 1] == 0, 2] *= 0\n",
    "        \n",
    "        score_full[mi, di, :5] = err_full.sum(axis=0) / num_full.sum(axis=0)\n",
    "        score_full[mi, di, 5] = pred_full[beh_full[:, 2] == 1, 2].mean() / pred_full[(beh_full[:, 1] == 1) & (beh_full[:, 2] == 0), 2].mean()\n",
    "        score_full[mi, di, 6:] = score_full[mi, di, 3:5] / np.square(beh_full[:, 3:] - beh_full[:, 3:].mean(axis=0)).mean(axis=0)"
   ]
  },
  {
   "cell_type": "code",
   "execution_count": 52,
   "metadata": {},
   "outputs": [
    {
     "name": "stdout",
     "output_type": "stream",
     "text": [
      "0\n",
      "Ttest_relResult(statistic=3.1086851362243637, pvalue=0.02659033795345682)\n",
      "Ttest_relResult(statistic=2.195344974041629, pvalue=0.07955902040840557)\n",
      "Ttest_relResult(statistic=-2.8445682704120365, pvalue=0.03605265585988828)\n",
      "              Anova\n",
      "=================================\n",
      "    F Value Num DF  Den DF Pr > F\n",
      "---------------------------------\n",
      "day  7.3061 2.0000 10.0000 0.0111\n",
      "=================================\n",
      "\n",
      "Multiple Comparison of Means - Tukey HSD, FWER=0.05 \n",
      "====================================================\n",
      "group1 group2 meandiff p-adj   lower   upper  reject\n",
      "----------------------------------------------------\n",
      "     0      1  -0.0396 0.1474 -0.0912  0.0119  False\n",
      "     0      2  -0.0857 0.0017 -0.1373 -0.0342   True\n",
      "     1      2  -0.0461 0.0833 -0.0977  0.0055  False\n",
      "----------------------------------------------------\n",
      "(array([0. , 0.1, 0.2, 0.3, 0.4]), <a list of 0 Text yticklabel objects>)\n"
     ]
    },
    {
     "data": {
      "image/png": "[encoded data removed]",
      "text/plain": [
       "<Figure size 216x144 with 1 Axes>"
      ]
     },
     "metadata": {},
     "output_type": "display_data"
    },
    {
     "name": "stdout",
     "output_type": "stream",
     "text": [
      "1\n",
      "Ttest_relResult(statistic=-0.9257359400529321, pvalue=0.39706662902799816)\n",
      "Ttest_relResult(statistic=1.9818262723898974, pvalue=0.10433423328088075)\n",
      "Ttest_relResult(statistic=0.11165906207571343, pvalue=0.9154377012478144)\n",
      "              Anova\n",
      "=================================\n",
      "    F Value Num DF  Den DF Pr > F\n",
      "---------------------------------\n",
      "day  0.9527 2.0000 10.0000 0.4181\n",
      "=================================\n",
      "\n",
      "Multiple Comparison of Means - Tukey HSD, FWER=0.05\n",
      "===================================================\n",
      "group1 group2 meandiff p-adj   lower  upper  reject\n",
      "---------------------------------------------------\n",
      "     0      1    0.016 0.5392 -0.0225 0.0546  False\n",
      "     0      2   0.0013    0.9 -0.0372 0.0399  False\n",
      "     1      2  -0.0147 0.5899 -0.0532 0.0238  False\n",
      "---------------------------------------------------\n",
      "(array([0.05, 0.1 , 0.15, 0.2 , 0.25, 0.3 ]), <a list of 0 Text yticklabel objects>)\n"
     ]
    },
    {
     "data": {
      "image/png": "[encoded data removed]",
      "text/plain": [
       "<Figure size 216x144 with 1 Axes>"
      ]
     },
     "metadata": {},
     "output_type": "display_data"
    },
    {
     "name": "stdout",
     "output_type": "stream",
     "text": [
      "2\n",
      "Ttest_relResult(statistic=2.6959122190858174, pvalue=0.0429936078613007)\n",
      "Ttest_relResult(statistic=3.2994321300873732, pvalue=0.02148893737372667)\n",
      "Ttest_relResult(statistic=-9.62653668337063, pvalue=0.0002051201616361022)\n",
      "              Anova\n",
      "=================================\n",
      "    F Value Num DF  Den DF Pr > F\n",
      "---------------------------------\n",
      "day 21.0372 2.0000 10.0000 0.0003\n",
      "=================================\n",
      "\n",
      "Multiple Comparison of Means - Tukey HSD, FWER=0.05 \n",
      "====================================================\n",
      "group1 group2 meandiff p-adj   lower   upper  reject\n",
      "----------------------------------------------------\n",
      "     0      1  -0.1151 0.0067 -0.1978 -0.0324   True\n",
      "     0      2   -0.206  0.001 -0.2887 -0.1233   True\n",
      "     1      2  -0.0909 0.0304 -0.1736 -0.0082   True\n",
      "----------------------------------------------------\n",
      "(array([0. , 0.2, 0.4, 0.6]), <a list of 0 Text yticklabel objects>)\n"
     ]
    },
    {
     "data": {
      "image/png": "[encoded data removed]",
      "text/plain": [
       "<Figure size 216x144 with 1 Axes>"
      ]
     },
     "metadata": {},
     "output_type": "display_data"
    },
    {
     "name": "stdout",
     "output_type": "stream",
     "text": [
      "3\n",
      "Ttest_relResult(statistic=5.586960304172626, pvalue=0.0025341073351880542)\n",
      "Ttest_relResult(statistic=-0.6934903801591772, pvalue=0.5188917046025262)\n",
      "Ttest_relResult(statistic=-1.198015756741402, pvalue=0.2845968748868271)\n",
      "              Anova\n",
      "=================================\n",
      "    F Value Num DF  Den DF Pr > F\n",
      "---------------------------------\n",
      "day  2.7578 2.0000 10.0000 0.1112\n",
      "=================================\n",
      "\n",
      "Multiple Comparison of Means - Tukey HSD, FWER=0.05\n",
      "===================================================\n",
      "group1 group2 meandiff p-adj   lower  upper  reject\n",
      "---------------------------------------------------\n",
      "     0      1  -0.0101 0.0835 -0.0215 0.0012  False\n",
      "     0      2  -0.0069 0.2857 -0.0182 0.0045  False\n",
      "     1      2   0.0032 0.7292 -0.0081 0.0146  False\n",
      "---------------------------------------------------\n",
      "(array([0.03, 0.04, 0.05, 0.06, 0.07, 0.08]), <a list of 0 Text yticklabel objects>)\n"
     ]
    },
    {
     "data": {
      "image/png": "[encoded data removed]",
      "text/plain": [
       "<Figure size 216x144 with 1 Axes>"
      ]
     },
     "metadata": {},
     "output_type": "display_data"
    },
    {
     "name": "stdout",
     "output_type": "stream",
     "text": [
      "4\n",
      "Ttest_relResult(statistic=-1.62669146196469, pvalue=0.16473116843283364)\n",
      "Ttest_relResult(statistic=-1.2544812814690491, pvalue=0.2651153089535007)\n",
      "Ttest_relResult(statistic=1.964670468160214, pvalue=0.10664866927017677)\n",
      "              Anova\n",
      "=================================\n",
      "    F Value Num DF  Den DF Pr > F\n",
      "---------------------------------\n",
      "day  2.7766 2.0000 10.0000 0.1099\n",
      "=================================\n",
      "\n",
      "Multiple Comparison of Means - Tukey HSD, FWER=0.05\n",
      "===================================================\n",
      "group1 group2 meandiff p-adj   lower  upper  reject\n",
      "---------------------------------------------------\n",
      "     0      1   0.0019 0.6408 -0.0037 0.0075  False\n",
      "     0      2   0.0048 0.0971 -0.0008 0.0104  False\n",
      "     1      2   0.0029 0.3993 -0.0027 0.0085  False\n",
      "---------------------------------------------------\n",
      "(array([0.01 , 0.015, 0.02 , 0.025, 0.03 , 0.035, 0.04 ]), <a list of 0 Text yticklabel objects>)\n"
     ]
    },
    {
     "data": {
      "image/png": "[encoded data removed]",
      "text/plain": [
       "<Figure size 216x144 with 1 Axes>"
      ]
     },
     "metadata": {},
     "output_type": "display_data"
    },
    {
     "name": "stdout",
     "output_type": "stream",
     "text": [
      "5\n",
      "Ttest_relResult(statistic=-1.1320874595783919, pvalue=0.30895090667759)\n",
      "Ttest_relResult(statistic=-0.17475971826932207, pvalue=0.8681246205914356)\n",
      "Ttest_relResult(statistic=3.424703549097829, pvalue=0.01874257154734102)\n",
      "              Anova\n",
      "=================================\n",
      "    F Value Num DF  Den DF Pr > F\n",
      "---------------------------------\n",
      "day  1.3062 2.0000 10.0000 0.3133\n",
      "=================================\n",
      "\n",
      "Multiple Comparison of Means - Tukey HSD, FWER=0.05\n",
      "===================================================\n",
      "group1 group2 meandiff p-adj   lower  upper  reject\n",
      "---------------------------------------------------\n",
      "     0      1   2.1434 0.3562 -1.7736 6.0603  False\n",
      "     0      2    2.506 0.2519 -1.4109 6.4229  False\n",
      "     1      2   0.3626    0.9 -3.5543 4.2796  False\n",
      "---------------------------------------------------\n",
      "(array([ 0.,  5., 10., 15., 20.]), <a list of 0 Text yticklabel objects>)\n"
     ]
    },
    {
     "data": {
      "image/png": "[encoded data removed]",
      "text/plain": [
       "<Figure size 216x144 with 1 Axes>"
      ]
     },
     "metadata": {},
     "output_type": "display_data"
    },
    {
     "name": "stdout",
     "output_type": "stream",
     "text": [
      "6\n",
      "Ttest_relResult(statistic=4.921578547458794, pvalue=0.0043914940830296605)\n",
      "Ttest_relResult(statistic=0.5238487109412778, pvalue=0.622765608193069)\n",
      "Ttest_relResult(statistic=-2.254591428547648, pvalue=0.07385057556891478)\n",
      "              Anova\n",
      "=================================\n",
      "    F Value Num DF  Den DF Pr > F\n",
      "---------------------------------\n",
      "day  4.8761 2.0000 10.0000 0.0333\n",
      "=================================\n",
      "\n",
      "Multiple Comparison of Means - Tukey HSD, FWER=0.05 \n",
      "====================================================\n",
      "group1 group2 meandiff p-adj   lower   upper  reject\n",
      "----------------------------------------------------\n",
      "     0      1  -0.1952 0.0474 -0.3882 -0.0021   True\n",
      "     0      2  -0.2393 0.0149 -0.4324 -0.0463   True\n",
      "     1      2  -0.0442 0.8131 -0.2372  0.1489  False\n",
      "----------------------------------------------------\n",
      "(array([0.2, 0.4, 0.6, 0.8, 1. , 1.2, 1.4]), <a list of 0 Text yticklabel objects>)\n"
     ]
    },
    {
     "data": {
      "image/png": "[encoded data removed]",
      "text/plain": [
       "<Figure size 216x144 with 1 Axes>"
      ]
     },
     "metadata": {},
     "output_type": "display_data"
    },
    {
     "name": "stdout",
     "output_type": "stream",
     "text": [
      "7\n",
      "Ttest_relResult(statistic=1.8754852496968715, pvalue=0.11956801388472656)\n",
      "Ttest_relResult(statistic=3.8761916989132, pvalue=0.011686822090407464)\n",
      "Ttest_relResult(statistic=-3.0032072714782903, pvalue=0.029988552275659993)\n",
      "              Anova\n",
      "=================================\n",
      "    F Value Num DF  Den DF Pr > F\n",
      "---------------------------------\n",
      "day  9.0826 2.0000 10.0000 0.0056\n",
      "=================================\n",
      "\n",
      "Multiple Comparison of Means - Tukey HSD, FWER=0.05 \n",
      "====================================================\n",
      "group1 group2 meandiff p-adj   lower   upper  reject\n",
      "----------------------------------------------------\n",
      "     0      1  -0.0718 0.3169 -0.1956  0.0521  False\n",
      "     0      2  -0.2182  0.001  -0.342 -0.0944   True\n",
      "     1      2  -0.1464   0.02 -0.2703 -0.0226   True\n",
      "----------------------------------------------------\n",
      "(array([0.6, 0.8, 1. , 1.2, 1.4]), <a list of 0 Text yticklabel objects>)\n"
     ]
    },
    {
     "data": {
      "image/png": "[encoded data removed]",
      "text/plain": [
       "<Figure size 216x144 with 1 Axes>"
      ]
     },
     "metadata": {},
     "output_type": "display_data"
    }
   ],
   "source": [
    "for si in range(8):\n",
    "    print(si)\n",
    "    plt.figure(figsize=(3, 2))\n",
    "    for s in score_full[:, :, si]:\n",
    "        plt.plot(np.arange(1, 4), s, color=\"k\", alpha=0.2)\n",
    "    plt.boxplot(score_full[:, :, si])\n",
    "    for i in range(3):\n",
    "        print(stats.ttest_rel(score_full[:, i, si], score_full[:, (i+1) % 3, si]))\n",
    "    df = pd.DataFrame({\n",
    "        \"mouse\": np.tile(np.arange(6), 3),\n",
    "        \"day\": np.repeat(np.arange(3), 6),\n",
    "        \"error\": np.hstack([score_full[:, i, si] for i in range(3)])\n",
    "    })\n",
    "    print(AnovaRM(data=df, depvar=\"error\", subject=\"mouse\", within=[\"day\"]).fit())\n",
    "    tukey = pairwise_tukeyhsd(endog=df['error'],\n",
    "                                  groups=df['day'],\n",
    "                                  alpha=0.05)\n",
    "    print(tukey)\n",
    "    plt.xticks([1, 2, 3], [\"Day 1\", \"Day 2\", \"Day6\"])\n",
    "    plt.tick_params(labelleft=False, labelbottom=False)\n",
    "    y0, y1 = plt.ylim()\n",
    "    plt.ylim(y0, y1 + (y1 - y0) / 2)\n",
    "    plt.tight_layout()\n",
    "    print(plt.yticks())\n",
    "    plt.savefig(\"paper/fig4/\" + str(si) + \"_full.png\")\n",
    "    plt.show()"
   ]
  },
  {
   "cell_type": "code",
   "execution_count": null,
   "metadata": {},
   "outputs": [],
   "source": [
    "with open(\"succ_lick_rate.png\", \"rb\") as f:\n",
    "    "
   ]
  },
  {
   "cell_type": "code",
   "execution_count": 50,
   "metadata": {
    "scrolled": true
   },
   "outputs": [
    {
     "name": "stdout",
     "output_type": "stream",
     "text": [
      "mpfc14 yd1 0\n",
      "mpfc14 yd1 1\n",
      "mpfc14 yd1 2\n",
      "mpfc14 yd1 3\n",
      "mpfc14 yd1 4\n",
      "mpfc14 yd1 5\n",
      "mpfc14 yd1 6\n",
      "mpfc14 yd1 7\n",
      "mpfc14 yd1 8\n",
      "mpfc14 yd1 9\n",
      "mpfc14 yd2 0\n",
      "mpfc14 yd2 1\n",
      "mpfc14 yd2 2\n",
      "mpfc14 yd2 3\n",
      "mpfc14 yd2 4\n",
      "mpfc14 yd2 5\n",
      "mpfc14 yd2 6\n",
      "mpfc14 yd2 7\n",
      "mpfc14 yd2 8\n",
      "mpfc14 yd2 9\n",
      "mpfc14 yd6 0\n",
      "mpfc14 yd6 1\n",
      "mpfc14 yd6 2\n",
      "mpfc14 yd6 3\n",
      "mpfc14 yd6 4\n",
      "mpfc14 yd6 5\n",
      "mpfc14 yd6 6\n",
      "mpfc14 yd6 7\n",
      "mpfc14 yd6 8\n",
      "mpfc14 yd6 9\n",
      "mpfc19 yd1 0\n",
      "mpfc19 yd1 1\n",
      "mpfc19 yd1 2\n",
      "mpfc19 yd1 3\n",
      "mpfc19 yd1 4\n",
      "mpfc19 yd1 5\n",
      "mpfc19 yd1 6\n",
      "mpfc19 yd1 7\n",
      "mpfc19 yd1 8\n",
      "mpfc19 yd1 9\n",
      "mpfc19 yd2 0\n",
      "mpfc19 yd2 1\n",
      "mpfc19 yd2 2\n",
      "mpfc19 yd2 3\n",
      "mpfc19 yd2 4\n",
      "mpfc19 yd2 5\n",
      "mpfc19 yd2 6\n",
      "mpfc19 yd2 7\n",
      "mpfc19 yd2 8\n",
      "mpfc19 yd2 9\n",
      "mpfc19 yd6 0\n",
      "mpfc19 yd6 1\n",
      "mpfc19 yd6 2\n",
      "mpfc19 yd6 3\n",
      "mpfc19 yd6 4\n",
      "mpfc19 yd6 5\n",
      "mpfc19 yd6 6\n",
      "mpfc19 yd6 7\n",
      "mpfc19 yd6 8\n",
      "mpfc19 yd6 9\n",
      "mpfc20 yd1 0\n",
      "mpfc20 yd1 1\n",
      "mpfc20 yd1 2\n",
      "mpfc20 yd1 3\n",
      "mpfc20 yd1 4\n",
      "mpfc20 yd1 5\n",
      "mpfc20 yd1 6\n",
      "mpfc20 yd1 7\n",
      "mpfc20 yd1 8\n",
      "mpfc20 yd1 9\n",
      "mpfc20 yd2 0\n",
      "mpfc20 yd2 1\n",
      "mpfc20 yd2 2\n",
      "mpfc20 yd2 3\n",
      "mpfc20 yd2 4\n",
      "mpfc20 yd2 5\n",
      "mpfc20 yd2 6\n",
      "mpfc20 yd2 7\n",
      "mpfc20 yd2 8\n",
      "mpfc20 yd2 9\n",
      "mpfc20 yd6 0\n",
      "mpfc20 yd6 1\n",
      "mpfc20 yd6 2\n",
      "mpfc20 yd6 3\n",
      "mpfc20 yd6 4\n",
      "mpfc20 yd6 5\n",
      "mpfc20 yd6 6\n",
      "mpfc20 yd6 7\n",
      "mpfc20 yd6 8\n",
      "mpfc20 yd6 9\n",
      "mpfc23 yd1 0\n",
      "mpfc23 yd1 1\n",
      "mpfc23 yd1 2\n",
      "mpfc23 yd1 3\n",
      "mpfc23 yd1 4\n",
      "mpfc23 yd1 5\n",
      "mpfc23 yd1 6\n",
      "mpfc23 yd1 7\n",
      "mpfc23 yd1 8\n",
      "mpfc23 yd1 9\n",
      "mpfc23 yd2 0\n",
      "mpfc23 yd2 1\n",
      "mpfc23 yd2 2\n",
      "mpfc23 yd2 3\n",
      "mpfc23 yd2 4\n",
      "mpfc23 yd2 5\n",
      "mpfc23 yd2 6\n",
      "mpfc23 yd2 7\n",
      "mpfc23 yd2 8\n",
      "mpfc23 yd2 9\n",
      "mpfc23 yd6 0\n",
      "mpfc23 yd6 1\n",
      "mpfc23 yd6 2\n",
      "mpfc23 yd6 3\n",
      "mpfc23 yd6 4\n",
      "mpfc23 yd6 5\n",
      "mpfc23 yd6 6\n",
      "mpfc23 yd6 7\n",
      "mpfc23 yd6 8\n",
      "mpfc23 yd6 9\n",
      "mpfc24 yd1 0\n",
      "mpfc24 yd1 1\n",
      "mpfc24 yd1 2\n",
      "mpfc24 yd1 3\n",
      "mpfc24 yd1 4\n",
      "mpfc24 yd1 5\n",
      "mpfc24 yd1 6\n",
      "mpfc24 yd1 7\n",
      "mpfc24 yd1 8\n",
      "mpfc24 yd1 9\n",
      "mpfc24 yd2 0\n",
      "mpfc24 yd2 1\n",
      "mpfc24 yd2 2\n",
      "mpfc24 yd2 3\n",
      "mpfc24 yd2 4\n",
      "mpfc24 yd2 5\n",
      "mpfc24 yd2 6\n",
      "mpfc24 yd2 7\n",
      "mpfc24 yd2 8\n",
      "mpfc24 yd2 9\n",
      "mpfc24 yd6 0\n",
      "mpfc24 yd6 1\n",
      "mpfc24 yd6 2\n",
      "mpfc24 yd6 3\n",
      "mpfc24 yd6 4\n",
      "mpfc24 yd6 5\n",
      "mpfc24 yd6 6\n",
      "mpfc24 yd6 7\n",
      "mpfc24 yd6 8\n",
      "mpfc24 yd6 9\n",
      "mpfc30 yd1 0\n",
      "mpfc30 yd1 1\n",
      "mpfc30 yd1 2\n",
      "mpfc30 yd1 3\n",
      "mpfc30 yd1 4\n",
      "mpfc30 yd1 5\n",
      "mpfc30 yd1 6\n",
      "mpfc30 yd1 7\n",
      "mpfc30 yd1 8\n",
      "mpfc30 yd1 9\n",
      "mpfc30 yd2 0\n",
      "mpfc30 yd2 1\n",
      "mpfc30 yd2 2\n",
      "mpfc30 yd2 3\n",
      "mpfc30 yd2 4\n",
      "mpfc30 yd2 5\n",
      "mpfc30 yd2 6\n",
      "mpfc30 yd2 7\n",
      "mpfc30 yd2 8\n",
      "mpfc30 yd2 9\n",
      "mpfc30 yd6 0\n",
      "mpfc30 yd6 1\n",
      "mpfc30 yd6 2\n",
      "mpfc30 yd6 3\n",
      "mpfc30 yd6 4\n",
      "mpfc30 yd6 5\n",
      "mpfc30 yd6 6\n",
      "mpfc30 yd6 7\n",
      "mpfc30 yd6 8\n",
      "mpfc30 yd6 9\n"
     ]
    }
   ],
   "source": [
    "score_all = np.zeros((6, 10, 3, 2, 8))\n",
    "for mi, mouse in enumerate(mice):\n",
    "    for di, day in enumerate(days):\n",
    "        n = np.sum(~np.isnan(beh[mi][di]).any(axis=1))\n",
    "        start, end = n_beh[mi][di]\n",
    "        beh_train = beh[mi][di][start:end]\n",
    "        beh_test = np.vstack((beh[mi][di][:start], beh[mi][di][end:n]))\n",
    "        \n",
    "        rate_train = [\n",
    "            (len(beh_train[:, 0]) - beh_train[:, 0].sum()) / beh_train[:, 0].sum(),\n",
    "            (len(beh_train[:, 1]) - beh_train[:, 1].sum()) / beh_train[:, 1].sum(),\n",
    "            (beh_train[:, 1].sum() - beh_train[:, 2].sum()) / beh_train[:, 2].sum()\n",
    "        ]\n",
    "        rate_test = [\n",
    "            (len(beh_test[:, 0]) - beh_test[:, 0].sum()) / beh_test[:, 0].sum(),\n",
    "            (len(beh_test[:, 1]) - beh_test[:, 1].sum()) / beh_test[:, 1].sum(),\n",
    "            (beh_test[:, 1].sum() - beh_test[:, 2].sum()) / beh_test[:, 2].sum()\n",
    "        ]\n",
    "        \n",
    "        for i in range(10):\n",
    "            print(mouse, day, i)\n",
    "            model = lstm.Decoder(params_all[mi][di][i])\n",
    "            p = model.predict(h[mi][di*2])[49:]\n",
    "            pred_train = p[start:end]\n",
    "            pred_test = np.vstack((p[:start], p[end:n]))\n",
    "            err_train = np.square(pred_train - beh_train)\n",
    "            err_test = np.square(pred_test - beh_test)\n",
    "            num_train = np.ones_like(err_train)\n",
    "            num_test = np.ones_like(err_test)\n",
    "        \n",
    "            err_train[beh_train[:, 0] == 1, 0] *= rate_train[0]\n",
    "            num_train[beh_train[:, 0] == 1, 0] *= rate_train[0]\n",
    "            err_train[beh_train[:, 1] == 1, 1] *= rate_train[1]\n",
    "            num_train[beh_train[:, 1] == 1, 1] *= rate_train[1]\n",
    "            err_train[beh_train[:, 2] == 1, 2] *= rate_train[2]\n",
    "            num_train[beh_train[:, 2] == 1, 2] *= rate_train[2]\n",
    "            err_train[beh_train[:, 1] == 0, 2] *= 0\n",
    "            num_train[beh_train[:, 1] == 0, 2] *= 0\n",
    "        \n",
    "            err_test[beh_test[:, 0] == 1, 0] *= rate_test[0]\n",
    "            num_test[beh_test[:, 0] == 1, 0] *= rate_test[0]\n",
    "            err_test[beh_test[:, 1] == 1, 1] *= rate_test[1]\n",
    "            num_test[beh_test[:, 1] == 1, 1] *= rate_test[1]\n",
    "            err_test[beh_test[:, 2] == 1, 2] *= rate_test[2]\n",
    "            num_test[beh_test[:, 2] == 1, 2] *= rate_test[2]\n",
    "            err_test[beh_test[:, 1] == 0, 2] *= 0\n",
    "            num_test[beh_test[:, 1] == 0, 2] *= 0\n",
    "        \n",
    "            score_all[mi, i, di, 0, :5] = err_train.sum(axis=0) / num_train.sum(axis=0)\n",
    "            score_all[mi, i, di, 1, :5] = err_test.sum(axis=0) / num_test.sum(axis=0)\n",
    "            score_all[mi, i, di, 0, 5] = pred_train[beh_train[:, 2] == 1, 2].mean() / pred_train[(beh_train[:, 1] == 1) & (beh_train[:, 2] == 0), 2].mean()\n",
    "            score_all[mi, i, di, 1, 5] = pred_test[beh_test[:, 2] == 1, 2].mean() / pred_test[(beh_test[:, 1] == 1) & (beh_test[:, 2] == 0), 2].mean()\n",
    "            score_all[mi, i, di, 0, 6:] = score_all[mi, i, di, 0, 3:5] / np.square(beh_train[:, 3:] - beh_train[:, 3:].mean(axis=0)).mean(axis=0)\n",
    "            score_all[mi, i, di, 1, 6:] = score_all[mi, i, di, 1, 3:5] / np.square(beh_test[:, 3:] - beh_test[:, 3:].mean(axis=0)).mean(axis=0)"
   ]
  },
  {
   "cell_type": "code",
   "execution_count": 34,
   "metadata": {},
   "outputs": [
    {
     "name": "stdout",
     "output_type": "stream",
     "text": [
      "Multiple Comparison of Means - Tukey HSD, FWER=0.05 \n",
      "====================================================\n",
      "group1 group2 meandiff p-adj   lower   upper  reject\n",
      "----------------------------------------------------\n",
      "  Day1   Day2  -0.0396 0.1474 -0.0912  0.0119  False\n",
      "  Day1   Day6  -0.0857 0.0017 -0.1373 -0.0342   True\n",
      "  Day2   Day6  -0.0461 0.0833 -0.0977  0.0055  False\n",
      "----------------------------------------------------\n"
     ]
    }
   ],
   "source": [
    "df = pd.DataFrame({\n",
    "    \"error\": np.hstack((score_full[:, 0, 0], score_full[:, 1, 0], score_full[:, 2, 0])),\n",
    "    \"day\": np.repeat([\"Day1\", \"Day2\", \"Day6\"], 6)\n",
    "})\n",
    "tukey = pairwise_tukeyhsd(endog=df['error'],\n",
    "                          groups=df['day'],\n",
    "                          alpha=0.05)\n",
    "print(tukey)"
   ]
  },
  {
   "cell_type": "code",
   "execution_count": 2,
   "metadata": {},
   "outputs": [
    {
     "ename": "NameError",
     "evalue": "name 'pd' is not defined",
     "output_type": "error",
     "traceback": [
      "\u001b[1;31m---------------------------------------------------------------------------\u001b[0m",
      "\u001b[1;31mNameError\u001b[0m                                 Traceback (most recent call last)",
      "\u001b[1;32m<ipython-input-2-e9d4c43f3075>\u001b[0m in \u001b[0;36m<module>\u001b[1;34m\u001b[0m\n\u001b[1;32m----> 1\u001b[1;33m df = pd.DataFrame({\n\u001b[0m\u001b[0;32m      2\u001b[0m     \u001b[1;34m\"error\"\u001b[0m\u001b[1;33m:\u001b[0m \u001b[0mnp\u001b[0m\u001b[1;33m.\u001b[0m\u001b[0mhstack\u001b[0m\u001b[1;33m(\u001b[0m\u001b[1;33m(\u001b[0m\u001b[0mscore_full\u001b[0m\u001b[1;33m[\u001b[0m\u001b[1;33m:\u001b[0m\u001b[1;33m,\u001b[0m \u001b[1;36m0\u001b[0m\u001b[1;33m,\u001b[0m \u001b[1;36m2\u001b[0m\u001b[1;33m]\u001b[0m\u001b[1;33m,\u001b[0m \u001b[0mscore_full\u001b[0m\u001b[1;33m[\u001b[0m\u001b[1;33m:\u001b[0m\u001b[1;33m,\u001b[0m \u001b[1;36m1\u001b[0m\u001b[1;33m,\u001b[0m \u001b[1;36m2\u001b[0m\u001b[1;33m]\u001b[0m\u001b[1;33m,\u001b[0m \u001b[0mscore_full\u001b[0m\u001b[1;33m[\u001b[0m\u001b[1;33m:\u001b[0m\u001b[1;33m,\u001b[0m \u001b[1;36m2\u001b[0m\u001b[1;33m,\u001b[0m \u001b[1;36m2\u001b[0m\u001b[1;33m]\u001b[0m\u001b[1;33m)\u001b[0m\u001b[1;33m)\u001b[0m\u001b[1;33m,\u001b[0m\u001b[1;33m\u001b[0m\u001b[1;33m\u001b[0m\u001b[0m\n\u001b[0;32m      3\u001b[0m     \u001b[1;34m\"day\"\u001b[0m\u001b[1;33m:\u001b[0m \u001b[0mnp\u001b[0m\u001b[1;33m.\u001b[0m\u001b[0mrepeat\u001b[0m\u001b[1;33m(\u001b[0m\u001b[1;33m[\u001b[0m\u001b[1;34m\"Day1\"\u001b[0m\u001b[1;33m,\u001b[0m \u001b[1;34m\"Day2\"\u001b[0m\u001b[1;33m,\u001b[0m \u001b[1;34m\"Day6\"\u001b[0m\u001b[1;33m]\u001b[0m\u001b[1;33m,\u001b[0m \u001b[1;36m6\u001b[0m\u001b[1;33m)\u001b[0m\u001b[1;33m\u001b[0m\u001b[1;33m\u001b[0m\u001b[0m\n\u001b[0;32m      4\u001b[0m })\n\u001b[0;32m      5\u001b[0m tukey = pairwise_tukeyhsd(endog=df['error'],\n",
      "\u001b[1;31mNameError\u001b[0m: name 'pd' is not defined"
     ]
    }
   ],
   "source": [
    "df = pd.DataFrame({\n",
    "    \"error\": np.hstack((score_full[:, 0, 2], score_full[:, 1, 2], score_full[:, 2, 2])),\n",
    "    \"day\": np.repeat([\"Day1\", \"Day2\", \"Day6\"], 6)\n",
    "})\n",
    "tukey = pairwise_tukeyhsd(endog=df['error'],\n",
    "                          groups=df['day'],\n",
    "                          alpha=0.05)\n",
    "print(tukey)"
   ]
  },
  {
   "cell_type": "code",
   "execution_count": 52,
   "metadata": {},
   "outputs": [
    {
     "data": {
      "text/plain": [
       "{'whiskers': [<matplotlib.lines.Line2D at 0x1e017e76d30>,\n",
       "  <matplotlib.lines.Line2D at 0x1e017e76c18>,\n",
       "  <matplotlib.lines.Line2D at 0x1e017e8fcf8>,\n",
       "  <matplotlib.lines.Line2D at 0x1e017e8fdd8>,\n",
       "  <matplotlib.lines.Line2D at 0x1e017a77470>,\n",
       "  <matplotlib.lines.Line2D at 0x1e017a777b8>],\n",
       " 'caps': [<matplotlib.lines.Line2D at 0x1e017e76a58>,\n",
       "  <matplotlib.lines.Line2D at 0x1e017e764a8>,\n",
       "  <matplotlib.lines.Line2D at 0x1e017e963c8>,\n",
       "  <matplotlib.lines.Line2D at 0x1e017e96710>,\n",
       "  <matplotlib.lines.Line2D at 0x1e017a77b38>,\n",
       "  <matplotlib.lines.Line2D at 0x1e017a77e48>],\n",
       " 'boxes': [<matplotlib.lines.Line2D at 0x1e017e76320>,\n",
       "  <matplotlib.lines.Line2D at 0x1e017e8f9b0>,\n",
       "  <matplotlib.lines.Line2D at 0x1e017e96e48>],\n",
       " 'medians': [<matplotlib.lines.Line2D at 0x1e017e8f320>,\n",
       "  <matplotlib.lines.Line2D at 0x1e017e96a58>,\n",
       "  <matplotlib.lines.Line2D at 0x1e017a77f28>],\n",
       " 'fliers': [<matplotlib.lines.Line2D at 0x1e017e8f668>,\n",
       "  <matplotlib.lines.Line2D at 0x1e017e96da0>,\n",
       "  <matplotlib.lines.Line2D at 0x1e017a67550>],\n",
       " 'means': []}"
      ]
     },
     "execution_count": 52,
     "metadata": {},
     "output_type": "execute_result"
    },
    {
     "data": {
      "image/png": "[encoded data removed]",
      "text/plain": [
       "<Figure size 432x288 with 1 Axes>"
      ]
     },
     "metadata": {
      "needs_background": "light"
     },
     "output_type": "display_data"
    }
   ],
   "source": [
    "plt.boxplot(score_all_mean[:, :, 0, 0])"
   ]
  },
  {
   "cell_type": "code",
   "execution_count": 53,
   "metadata": {},
   "outputs": [
    {
     "data": {
      "text/plain": [
       "{'whiskers': [<matplotlib.lines.Line2D at 0x1e017ae0f60>,\n",
       "  <matplotlib.lines.Line2D at 0x1e0148c0c50>,\n",
       "  <matplotlib.lines.Line2D at 0x1e017b80208>,\n",
       "  <matplotlib.lines.Line2D at 0x1e0148a6710>,\n",
       "  <matplotlib.lines.Line2D at 0x1e017b2cda0>,\n",
       "  <matplotlib.lines.Line2D at 0x1e017b41ef0>],\n",
       " 'caps': [<matplotlib.lines.Line2D at 0x1e0148c05f8>,\n",
       "  <matplotlib.lines.Line2D at 0x1e0148c0fd0>,\n",
       "  <matplotlib.lines.Line2D at 0x1e0148a62b0>,\n",
       "  <matplotlib.lines.Line2D at 0x1e017b2c400>,\n",
       "  <matplotlib.lines.Line2D at 0x1e017b41710>,\n",
       "  <matplotlib.lines.Line2D at 0x1e017b410b8>],\n",
       " 'boxes': [<matplotlib.lines.Line2D at 0x1e017ae0dd8>,\n",
       "  <matplotlib.lines.Line2D at 0x1e017b80390>,\n",
       "  <matplotlib.lines.Line2D at 0x1e017b2cf98>],\n",
       " 'medians': [<matplotlib.lines.Line2D at 0x1e0148c0438>,\n",
       "  <matplotlib.lines.Line2D at 0x1e017b2c780>,\n",
       "  <matplotlib.lines.Line2D at 0x1e017b412b0>],\n",
       " 'fliers': [<matplotlib.lines.Line2D at 0x1e017b80f98>,\n",
       "  <matplotlib.lines.Line2D at 0x1e017b2ca20>,\n",
       "  <matplotlib.lines.Line2D at 0x1e017bdd4e0>],\n",
       " 'means': []}"
      ]
     },
     "execution_count": 53,
     "metadata": {},
     "output_type": "execute_result"
    },
    {
     "data": {
      "image/png": "[encoded data removed]",
      "text/plain": [
       "<Figure size 432x288 with 1 Axes>"
      ]
     },
     "metadata": {
      "needs_background": "light"
     },
     "output_type": "display_data"
    }
   ],
   "source": [
    "plt.boxplot(score_all_mean[:, :, 0, 2])"
   ]
  },
  {
   "cell_type": "code",
   "execution_count": 47,
   "metadata": {},
   "outputs": [
    {
     "data": {
      "image/png": "[encoded data removed]",
      "text/plain": [
       "<Figure size 288x72 with 1 Axes>"
      ]
     },
     "metadata": {},
     "output_type": "display_data"
    }
   ],
   "source": [
    "plt.figure(figsize=(4, 1))\n",
    "plt.plot(beh[4][2][2200:3000, 0])\n",
    "plt.plot(beh[4][2][2200:3000, 1])\n",
    "plt.plot(beh[4][2][2200:3000, 2])\n",
    "plt.plot(preds[4][2][2200:3000, 2])\n",
    "plt.tick_params(left=False, labelleft=False, bottom=False, labelbottom=False)\n",
    "plt.xlim(0, 800)\n",
    "plt.tight_layout()\n",
    "plt.savefig(\"test.png\")"
   ]
  },
  {
   "cell_type": "code",
   "execution_count": 62,
   "metadata": {},
   "outputs": [
    {
     "data": {
      "image/png": "[encoded data removed]",
      "text/plain": [
       "<Figure size 1008x144 with 1 Axes>"
      ]
     },
     "metadata": {},
     "output_type": "display_data"
    }
   ],
   "source": [
    "plt.figure(figsize=(14, 2))\n",
    "plt.plot(beh[4][2][400*5:480*5, 0])\n",
    "plt.plot(beh[4][2][400*5:480*5, 1])\n",
    "plt.plot(beh[4][2][400*5:480*5, 2])\n",
    "plt.plot(beh[4][2][400*5:480*5, 3])\n",
    "plt.plot(beh[4][2][400*5:480*5, 4])\n",
    "plt.xlim(0, 400)\n",
    "plt.xticks([50 * i for i in range(9)])\n",
    "plt.tick_params(labelbottom=False, left=False, labelleft=False)\n",
    "plt.savefig(\"beh.png\")"
   ]
  },
  {
   "cell_type": "code",
   "execution_count": null,
   "metadata": {},
   "outputs": [],
   "source": []
  }
 ],
 "metadata": {
  "kernelspec": {
   "display_name": "Python 3",
   "language": "python",
   "name": "python3"
  },
  "language_info": {
   "codemirror_mode": {
    "name": "ipython",
    "version": 3
   },
   "file_extension": ".py",
   "mimetype": "text/x-python",
   "name": "python",
   "nbconvert_exporter": "python",
   "pygments_lexer": "ipython3",
   "version": "3.7.3"
  }
 },
 "nbformat": 4,
 "nbformat_minor": 2
}
